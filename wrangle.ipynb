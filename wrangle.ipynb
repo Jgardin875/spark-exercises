{
 "cells": [
  {
   "cell_type": "code",
   "execution_count": 1,
   "id": "ff264f5b",
   "metadata": {},
   "outputs": [
    {
     "name": "stderr",
     "output_type": "stream",
     "text": [
      "Setting default log level to \"WARN\".\n",
      "To adjust logging level use sc.setLogLevel(newLevel). For SparkR, use setLogLevel(newLevel).\n"
     ]
    },
    {
     "name": "stdout",
     "output_type": "stream",
     "text": [
      "22/09/13 13:22:47 WARN NativeCodeLoader: Unable to load native-hadoop library for your platform... using builtin-java classes where applicable\n",
      "22/09/13 13:22:48 WARN Utils: Service 'SparkUI' could not bind on port 4040. Attempting port 4041.\n",
      "22/09/13 13:22:48 WARN Utils: Service 'SparkUI' could not bind on port 4041. Attempting port 4042.\n"
     ]
    }
   ],
   "source": [
    "from pyspark.sql import SparkSession\n",
    "from pyspark.sql.functions import *\n",
    "\n",
    "spark = SparkSession.builder.getOrCreate()"
   ]
  },
  {
   "cell_type": "code",
   "execution_count": null,
   "id": "ee1052e9",
   "metadata": {},
   "outputs": [],
   "source": []
  },
  {
   "cell_type": "markdown",
   "id": "52a6ab9c",
   "metadata": {},
   "source": [
    "# 1\n",
    "\n",
    "    Read the case, department, and source data into their own spark dataframes.\n",
    "\n",
    "    Let's see how writing to the local disk works in spark:\n",
    "        Write the code necessary to store the source data in both csv and json format, store these as sources_csv and sources_json\n",
    "        Inspect your folder structure. What do you notice?\n",
    "\n",
    "    Inspect the data in your dataframes. Are the data types appropriate? Write the code necessary to cast the values to the appropriate types.\n"
   ]
  },
  {
   "cell_type": "markdown",
   "id": "4b8126f3",
   "metadata": {},
   "source": [
    "df = spark.read.csv(\"data/source.csv\", sep=\",\", header=True, inferSchema=True)\n",
    "\n",
    "OR\n",
    "\n",
    "(\n",
    "    spark.read.format(\"csv\")\n",
    "    .option(\"sep\", \",\")\n",
    "    .option(\"inferSchema\", True)\n",
    "    .option(\"header\", True)\n",
    "    .load(\"data/source.csv\")\n",
    ")\n"
   ]
  },
  {
   "cell_type": "code",
   "execution_count": 2,
   "id": "29952917",
   "metadata": {},
   "outputs": [],
   "source": [
    "# Read"
   ]
  },
  {
   "cell_type": "code",
   "execution_count": 3,
   "id": "43248304",
   "metadata": {},
   "outputs": [
    {
     "name": "stderr",
     "output_type": "stream",
     "text": [
      "                                                                                \r"
     ]
    }
   ],
   "source": [
    "case = spark.read.csv('case.csv', sep=\",\", header=True, inferSchema=True)\n",
    "\n",
    "source = spark.read.csv('source.csv', sep=\",\", header=True, inferSchema=True)\n",
    "\n",
    "dept = spark.read.csv('dept.csv', sep=\",\", header=True, inferSchema=True)\n",
    "\n",
    "\n"
   ]
  },
  {
   "cell_type": "code",
   "execution_count": 4,
   "id": "8f7ac822",
   "metadata": {
    "scrolled": true
   },
   "outputs": [
    {
     "name": "stdout",
     "output_type": "stream",
     "text": [
      "-RECORD 0------------------------------------\n",
      " case_id              | 1014127332           \n",
      " case_opened_date     | 1/1/18 0:42          \n",
      " case_closed_date     | 1/1/18 12:29         \n",
      " SLA_due_date         | 9/26/20 0:42         \n",
      " case_late            | NO                   \n",
      " num_days_late        | -998.5087616000001   \n",
      " case_closed          | YES                  \n",
      " dept_division        | Field Operations     \n",
      " service_request_type | Stray Animal         \n",
      " SLA_days             | 999.0                \n",
      " case_status          | Closed               \n",
      " source_id            | svcCRMLS             \n",
      " request_address      | 2315  EL PASO ST,... \n",
      " council_district     | 5                    \n",
      "-RECORD 1------------------------------------\n",
      " case_id              | 1014127333           \n",
      " case_opened_date     | 1/1/18 0:46          \n",
      " case_closed_date     | 1/3/18 8:11          \n",
      " SLA_due_date         | 1/5/18 8:30          \n",
      " case_late            | NO                   \n",
      " num_days_late        | -2.0126041669999997  \n",
      " case_closed          | YES                  \n",
      " dept_division        | Storm Water          \n",
      " service_request_type | Removal Of Obstru... \n",
      " SLA_days             | 4.322222222          \n",
      " case_status          | Closed               \n",
      " source_id            | svcCRMSS             \n",
      " request_address      | 2215  GOLIAD RD, ... \n",
      " council_district     | 3                    \n",
      "-RECORD 2------------------------------------\n",
      " case_id              | 1014127334           \n",
      " case_opened_date     | 1/1/18 0:48          \n",
      " case_closed_date     | 1/2/18 7:57          \n",
      " SLA_due_date         | 1/5/18 8:30          \n",
      " case_late            | NO                   \n",
      " num_days_late        | -3.022337963         \n",
      " case_closed          | YES                  \n",
      " dept_division        | Storm Water          \n",
      " service_request_type | Removal Of Obstru... \n",
      " SLA_days             | 4.320729167          \n",
      " case_status          | Closed               \n",
      " source_id            | svcCRMSS             \n",
      " request_address      | 102  PALFREY ST W... \n",
      " council_district     | 3                    \n",
      "-RECORD 3------------------------------------\n",
      " case_id              | 1014127335           \n",
      " case_opened_date     | 1/1/18 1:29          \n",
      " case_closed_date     | 1/2/18 8:13          \n",
      " SLA_due_date         | 1/17/18 8:30         \n",
      " case_late            | NO                   \n",
      " num_days_late        | -15.01148148         \n",
      " case_closed          | YES                  \n",
      " dept_division        | Code Enforcement     \n",
      " service_request_type | Front Or Side Yar... \n",
      " SLA_days             | 16.29188657          \n",
      " case_status          | Closed               \n",
      " source_id            | svcCRMSS             \n",
      " request_address      | 114  LA GARDE ST,... \n",
      " council_district     | 3                    \n",
      "-RECORD 4------------------------------------\n",
      " case_id              | 1014127336           \n",
      " case_opened_date     | 1/1/18 1:34          \n",
      " case_closed_date     | 1/1/18 13:29         \n",
      " SLA_due_date         | 1/1/18 4:34          \n",
      " case_late            | YES                  \n",
      " num_days_late        | 0.37216435200000003  \n",
      " case_closed          | YES                  \n",
      " dept_division        | Field Operations     \n",
      " service_request_type | Animal Cruelty(Cr... \n",
      " SLA_days             | 0.125                \n",
      " case_status          | Closed               \n",
      " source_id            | svcCRMSS             \n",
      " request_address      | 734  CLEARVIEW DR... \n",
      " council_district     | 7                    \n",
      "only showing top 5 rows\n",
      "\n"
     ]
    }
   ],
   "source": [
    "case.show(5, vertical = True)"
   ]
  },
  {
   "cell_type": "code",
   "execution_count": 5,
   "id": "bb216e2a",
   "metadata": {},
   "outputs": [
    {
     "name": "stdout",
     "output_type": "stream",
     "text": [
      "+---------+----------------+\n",
      "|source_id| source_username|\n",
      "+---------+----------------+\n",
      "|   100137|Merlene Blodgett|\n",
      "|   103582|     Carmen Cura|\n",
      "|   106463| Richard Sanchez|\n",
      "|   119403|  Betty De Hoyos|\n",
      "|   119555|  Socorro Quiara|\n",
      "+---------+----------------+\n",
      "only showing top 5 rows\n",
      "\n"
     ]
    }
   ],
   "source": [
    "source.show(5)"
   ]
  },
  {
   "cell_type": "code",
   "execution_count": 6,
   "id": "c3908d90",
   "metadata": {},
   "outputs": [
    {
     "name": "stdout",
     "output_type": "stream",
     "text": [
      "-RECORD 0--------------------------------------\n",
      " dept_division          | 311 Call Center      \n",
      " dept_name              | Customer Service     \n",
      " standardized_dept_name | Customer Service     \n",
      " dept_subject_to_SLA    | YES                  \n",
      "-RECORD 1--------------------------------------\n",
      " dept_division          | Brush                \n",
      " dept_name              | Solid Waste Manag... \n",
      " standardized_dept_name | Solid Waste          \n",
      " dept_subject_to_SLA    | YES                  \n",
      "-RECORD 2--------------------------------------\n",
      " dept_division          | Clean and Green      \n",
      " dept_name              | Parks and Recreation \n",
      " standardized_dept_name | Parks & Recreation   \n",
      " dept_subject_to_SLA    | YES                  \n",
      "-RECORD 3--------------------------------------\n",
      " dept_division          | Clean and Green N... \n",
      " dept_name              | Parks and Recreation \n",
      " standardized_dept_name | Parks & Recreation   \n",
      " dept_subject_to_SLA    | YES                  \n",
      "-RECORD 4--------------------------------------\n",
      " dept_division          | Code Enforcement     \n",
      " dept_name              | Code Enforcement ... \n",
      " standardized_dept_name | DSD/Code Enforcement \n",
      " dept_subject_to_SLA    | YES                  \n",
      "only showing top 5 rows\n",
      "\n"
     ]
    }
   ],
   "source": [
    "dept.show(5, vertical = True)"
   ]
  },
  {
   "cell_type": "markdown",
   "id": "346835a2",
   "metadata": {},
   "source": [
    "from pyspark.sql.types import StructType, StructField, StringType\n",
    "\n",
    "schema = StructType(\n",
    "    [\n",
    "        StructField(\"dept_division\", StringType()),\n",
    "        StructField(\"dept_name\", StringType()),\n",
    "        StructField(\"standardized_dept_name\", StringType()),\n",
    "        StructField(\"dept_subject_to_SLA\", StringType())\n",
    "    ]\n",
    ")\n",
    "\n",
    "spark.read.csv(\"dept.csv\", header=True, schema=schema)\n"
   ]
  },
  {
   "cell_type": "markdown",
   "id": "a7fde374",
   "metadata": {},
   "source": [
    "dept_division,dept_name,standardized_dept_name,dept_subject_to_SLA"
   ]
  },
  {
   "cell_type": "code",
   "execution_count": null,
   "id": "e44fdade",
   "metadata": {},
   "outputs": [],
   "source": []
  },
  {
   "cell_type": "markdown",
   "id": "b493aeef",
   "metadata": {},
   "source": [
    "# Write\n",
    "\n",
    "mpg.write.json(\"data/mpg_json\", mode=\"overwrite\")\n",
    "\n",
    "- like much else in spark, there's multiple ways we could do this:\n",
    "(\n",
    "    mpg.write.format(\"csv\")\n",
    "    .mode(\"overwrite\")\n",
    "    .option(\"header\", \"true\")\n",
    "    .save(\"data/mpg_csv\")\n",
    ")"
   ]
  },
  {
   "cell_type": "code",
   "execution_count": 7,
   "id": "a3459e4a",
   "metadata": {},
   "outputs": [],
   "source": [
    "source.write.json('source_json', mode = 'overwrite')"
   ]
  },
  {
   "cell_type": "code",
   "execution_count": 8,
   "id": "92a736ae",
   "metadata": {},
   "outputs": [
    {
     "name": "stderr",
     "output_type": "stream",
     "text": [
      "                                                                                \r"
     ]
    }
   ],
   "source": [
    "case.write.json('case_json', mode = 'overwrite')"
   ]
  },
  {
   "cell_type": "code",
   "execution_count": 9,
   "id": "cad4fabf",
   "metadata": {},
   "outputs": [],
   "source": [
    "dept.write.json('dept_json', mode = 'overwrite')"
   ]
  },
  {
   "cell_type": "code",
   "execution_count": 10,
   "id": "8b4cc859",
   "metadata": {},
   "outputs": [],
   "source": [
    "source.write.csv('source_csv', mode = 'overwrite')"
   ]
  },
  {
   "cell_type": "code",
   "execution_count": 11,
   "id": "dbdf5e9b",
   "metadata": {},
   "outputs": [
    {
     "name": "stderr",
     "output_type": "stream",
     "text": [
      "                                                                                \r"
     ]
    }
   ],
   "source": [
    "case.write.csv('case_csv', mode = 'overwrite')"
   ]
  },
  {
   "cell_type": "code",
   "execution_count": 12,
   "id": "11f3b8aa",
   "metadata": {},
   "outputs": [],
   "source": [
    "dept.write.csv('dept_csv', mode = 'overwrite')"
   ]
  },
  {
   "cell_type": "code",
   "execution_count": 13,
   "id": "6a0a8746",
   "metadata": {},
   "outputs": [],
   "source": [
    "# observation: They appeared as folders and were imported in parts"
   ]
  },
  {
   "cell_type": "code",
   "execution_count": 14,
   "id": "6d3797be",
   "metadata": {},
   "outputs": [
    {
     "name": "stdout",
     "output_type": "stream",
     "text": [
      "root\n",
      " |-- case_id: integer (nullable = true)\n",
      " |-- case_opened_date: string (nullable = true)\n",
      " |-- case_closed_date: string (nullable = true)\n",
      " |-- SLA_due_date: string (nullable = true)\n",
      " |-- case_late: string (nullable = true)\n",
      " |-- num_days_late: double (nullable = true)\n",
      " |-- case_closed: string (nullable = true)\n",
      " |-- dept_division: string (nullable = true)\n",
      " |-- service_request_type: string (nullable = true)\n",
      " |-- SLA_days: double (nullable = true)\n",
      " |-- case_status: string (nullable = true)\n",
      " |-- source_id: string (nullable = true)\n",
      " |-- request_address: string (nullable = true)\n",
      " |-- council_district: integer (nullable = true)\n",
      "\n"
     ]
    }
   ],
   "source": [
    "case.printSchema() #dates are still strings, case_late and case_closed are boolean columns"
   ]
  },
  {
   "cell_type": "code",
   "execution_count": 15,
   "id": "a756e032",
   "metadata": {},
   "outputs": [
    {
     "name": "stdout",
     "output_type": "stream",
     "text": [
      "root\n",
      " |-- source_id: string (nullable = true)\n",
      " |-- source_username: string (nullable = true)\n",
      "\n"
     ]
    }
   ],
   "source": [
    "source.printSchema()"
   ]
  },
  {
   "cell_type": "code",
   "execution_count": 16,
   "id": "6c5d22da",
   "metadata": {},
   "outputs": [
    {
     "name": "stdout",
     "output_type": "stream",
     "text": [
      "root\n",
      " |-- dept_division: string (nullable = true)\n",
      " |-- dept_name: string (nullable = true)\n",
      " |-- standardized_dept_name: string (nullable = true)\n",
      " |-- dept_subject_to_SLA: string (nullable = true)\n",
      "\n"
     ]
    }
   ],
   "source": [
    "dept.printSchema() #might wanna make yes/no column a 0/1 column"
   ]
  },
  {
   "cell_type": "code",
   "execution_count": 17,
   "id": "818fe651",
   "metadata": {},
   "outputs": [],
   "source": [
    "# above are my notes, what I would do. The first few lines below are what the curriculum directs me to do. (#c)"
   ]
  },
  {
   "cell_type": "code",
   "execution_count": 18,
   "id": "34109a6d",
   "metadata": {},
   "outputs": [],
   "source": [
    "#c\n",
    "case = case.withColumnRenamed(\"SLA_due_date\", \"case_due_date\")"
   ]
  },
  {
   "cell_type": "code",
   "execution_count": 19,
   "id": "46a85160",
   "metadata": {},
   "outputs": [
    {
     "name": "stderr",
     "output_type": "stream",
     "text": [
      "\r",
      "[Stage 15:>                                                       (0 + 10) / 10]\r"
     ]
    },
    {
     "name": "stdout",
     "output_type": "stream",
     "text": [
      "+-----------+---------+------+\n",
      "|case_closed|case_late| count|\n",
      "+-----------+---------+------+\n",
      "|         NO|      YES|  6525|\n",
      "|        YES|      YES| 87978|\n",
      "|         NO|       NO| 11585|\n",
      "|        YES|       NO|735616|\n",
      "+-----------+---------+------+\n",
      "\n"
     ]
    },
    {
     "name": "stderr",
     "output_type": "stream",
     "text": [
      "\r",
      "                                                                                \r"
     ]
    }
   ],
   "source": [
    "#c\n",
    "# demonstrating we only have yes/no in each field\n",
    "case.groupBy(\"case_closed\", \"case_late\").count().show()\n"
   ]
  },
  {
   "cell_type": "code",
   "execution_count": 20,
   "id": "36ac921b",
   "metadata": {},
   "outputs": [
    {
     "name": "stdout",
     "output_type": "stream",
     "text": [
      "+-----------+---------+\n",
      "|case_closed|case_late|\n",
      "+-----------+---------+\n",
      "|       true|    false|\n",
      "|       true|    false|\n",
      "|       true|    false|\n",
      "|       true|    false|\n",
      "|       true|     true|\n",
      "+-----------+---------+\n",
      "only showing top 5 rows\n",
      "\n"
     ]
    }
   ],
   "source": [
    "#c\n",
    "case = case.withColumn(\"case_closed\", expr('case_closed == \"YES\"')).withColumn(\n",
    "    \"case_late\", expr('case_late == \"YES\"')\n",
    ")\n",
    "\n",
    "case.select(\"case_closed\", \"case_late\").show(5)\n"
   ]
  },
  {
   "cell_type": "code",
   "execution_count": 21,
   "id": "c8667c52",
   "metadata": {},
   "outputs": [],
   "source": [
    "# c\n",
    "# The council_district column appears as though it is an integer, \n",
    "#but this is just a unique identifier for each district\n",
    "case = case.withColumn(\"council_district\", col(\"council_district\").cast(\"string\"))\n"
   ]
  },
  {
   "cell_type": "code",
   "execution_count": 22,
   "id": "c38253a8",
   "metadata": {},
   "outputs": [
    {
     "name": "stdout",
     "output_type": "stream",
     "text": [
      "--- Before handling dates\n",
      "+----------------+----------------+-------------+\n",
      "|case_opened_date|case_closed_date|case_due_date|\n",
      "+----------------+----------------+-------------+\n",
      "|     1/1/18 0:42|    1/1/18 12:29| 9/26/20 0:42|\n",
      "|     1/1/18 0:46|     1/3/18 8:11|  1/5/18 8:30|\n",
      "|     1/1/18 0:48|     1/2/18 7:57|  1/5/18 8:30|\n",
      "|     1/1/18 1:29|     1/2/18 8:13| 1/17/18 8:30|\n",
      "|     1/1/18 1:34|    1/1/18 13:29|  1/1/18 4:34|\n",
      "+----------------+----------------+-------------+\n",
      "only showing top 5 rows\n",
      "\n",
      "--- After\n",
      "+-------------------+-------------------+-------------------+\n",
      "|   case_opened_date|   case_closed_date|      case_due_date|\n",
      "+-------------------+-------------------+-------------------+\n",
      "|2018-01-01 00:42:00|2018-01-01 00:42:00|2018-01-01 00:42:00|\n",
      "|2018-01-01 00:46:00|2018-01-01 00:46:00|2018-01-01 00:46:00|\n",
      "|2018-01-01 00:48:00|2018-01-01 00:48:00|2018-01-01 00:48:00|\n",
      "|2018-01-01 01:29:00|2018-01-01 01:29:00|2018-01-01 01:29:00|\n",
      "|2018-01-01 01:34:00|2018-01-01 01:34:00|2018-01-01 01:34:00|\n",
      "+-------------------+-------------------+-------------------+\n",
      "only showing top 5 rows\n",
      "\n"
     ]
    }
   ],
   "source": [
    "# c\n",
    "print(\"--- Before handling dates\")\n",
    "case.select(\"case_opened_date\", \"case_closed_date\", \"case_due_date\").show(5)\n",
    "\n",
    "fmt = \"M/d/yy H:mm\"\n",
    "case = (\n",
    "    case.withColumn(\"case_opened_date\", to_timestamp(\"case_opened_date\", fmt))\n",
    "    .withColumn(\"case_closed_date\", to_timestamp(\"case_opened_date\", fmt))\n",
    "    .withColumn(\"case_due_date\", to_timestamp(\"case_opened_date\", fmt))\n",
    ")\n",
    "\n",
    "print(\"--- After\")\n",
    "case.select(\"case_opened_date\", \"case_closed_date\", \"case_due_date\").show(5)\n"
   ]
  },
  {
   "cell_type": "code",
   "execution_count": 23,
   "id": "957a4a0b",
   "metadata": {},
   "outputs": [
    {
     "name": "stdout",
     "output_type": "stream",
     "text": [
      "--- Before\n",
      "+--------------------+\n",
      "|     request_address|\n",
      "+--------------------+\n",
      "|2315  EL PASO ST,...|\n",
      "|2215  GOLIAD RD, ...|\n",
      "|102  PALFREY ST W...|\n",
      "|114  LA GARDE ST,...|\n",
      "|734  CLEARVIEW DR...|\n",
      "+--------------------+\n",
      "only showing top 5 rows\n",
      "\n",
      "--- After\n",
      "+--------------------+\n",
      "|     request_address|\n",
      "+--------------------+\n",
      "|2315  el paso st,...|\n",
      "|2215  goliad rd, ...|\n",
      "|102  palfrey st w...|\n",
      "|114  la garde st,...|\n",
      "|734  clearview dr...|\n",
      "+--------------------+\n",
      "only showing top 5 rows\n",
      "\n"
     ]
    }
   ],
   "source": [
    "# c\n",
    "# Using the trim and lower functions lets us strip any leading or trailing whitespace \n",
    "#and convert everything to lowercase.\n",
    "print(\"--- Before\")\n",
    "case.select(\"request_address\").show(5)\n",
    "\n",
    "case = case.withColumn(\"request_address\", trim(lower(case.request_address)))\n",
    "\n",
    "print(\"--- After\")\n",
    "case.select(\"request_address\").show(5)\n"
   ]
  },
  {
   "cell_type": "markdown",
   "id": "99a49f44",
   "metadata": {},
   "source": [
    "# notes\n",
    "how to add leading zeros to concil columm\n",
    "\n",
    "df = df.withColumn(\"council_district\", col(\"council_district\").cast(\"int\"))\n",
    "\n",
    " '%03d' means at least 3 digits, pad with 0s\n",
    "\n",
    " In order to use the format_string function the way we are, we'll need to\n",
    " convert council_district back to an integer temporarily, but the final output\n",
    " will be a string.\n",
    "\n",
    "df = df.withColumn(\n",
    "    \"council_district\",\n",
    "    format_string(\"%03d\", col(\"council_district\").cast(\"int\")),\n",
    ")\n",
    "\n",
    "df.select(\"council_district\").show(5)\n"
   ]
  },
  {
   "cell_type": "code",
   "execution_count": 24,
   "id": "1a909cf1",
   "metadata": {},
   "outputs": [
    {
     "name": "stdout",
     "output_type": "stream",
     "text": [
      "+-------+\n",
      "|zipcode|\n",
      "+-------+\n",
      "|  78207|\n",
      "|  78223|\n",
      "|  78223|\n",
      "|  78223|\n",
      "|  78228|\n",
      "+-------+\n",
      "only showing top 5 rows\n",
      "\n"
     ]
    }
   ],
   "source": [
    "# c\n",
    "# set zipcode column\n",
    "case = case.withColumn(\"zipcode\", regexp_extract(\"request_address\", r\"\\d+$\", 0))\n",
    "\n",
    "case.select(\"zipcode\").show(5)\n",
    "\n"
   ]
  },
  {
   "cell_type": "code",
   "execution_count": 25,
   "id": "7549ee4d",
   "metadata": {},
   "outputs": [],
   "source": [
    "#  Join w/ dept dataset"
   ]
  },
  {
   "cell_type": "code",
   "execution_count": 26,
   "id": "9d01e491",
   "metadata": {},
   "outputs": [
    {
     "name": "stdout",
     "output_type": "stream",
     "text": [
      "-RECORD 0------------------------------------\n",
      " case_id              | 1014127332           \n",
      " case_opened_date     | 2018-01-01 00:42:00  \n",
      " case_closed_date     | 2018-01-01 00:42:00  \n",
      " case_due_date        | 2018-01-01 00:42:00  \n",
      " case_late            | false                \n",
      " num_days_late        | -998.5087616000001   \n",
      " case_closed          | true                 \n",
      " service_request_type | Stray Animal         \n",
      " SLA_days             | 999.0                \n",
      " case_status          | Closed               \n",
      " source_id            | svcCRMLS             \n",
      " request_address      | 2315  el paso st,... \n",
      " council_district     | 5                    \n",
      " zipcode              | 78207                \n",
      " department           | Animal Care Services \n",
      " dept_subject_to_SLA  | true                 \n",
      "-RECORD 1------------------------------------\n",
      " case_id              | 1014127333           \n",
      " case_opened_date     | 2018-01-01 00:46:00  \n",
      " case_closed_date     | 2018-01-01 00:46:00  \n",
      " case_due_date        | 2018-01-01 00:46:00  \n",
      " case_late            | false                \n",
      " num_days_late        | -2.0126041669999997  \n",
      " case_closed          | true                 \n",
      " service_request_type | Removal Of Obstru... \n",
      " SLA_days             | 4.322222222          \n",
      " case_status          | Closed               \n",
      " source_id            | svcCRMSS             \n",
      " request_address      | 2215  goliad rd, ... \n",
      " council_district     | 3                    \n",
      " zipcode              | 78223                \n",
      " department           | Trans & Cap Impro... \n",
      " dept_subject_to_SLA  | true                 \n",
      "only showing top 2 rows\n",
      "\n"
     ]
    }
   ],
   "source": [
    "# c\n",
    "comb = (\n",
    "    case\n",
    "    # left join on dept_division\n",
    "    .join(dept, \"dept_division\", \"left\")\n",
    "    # drop all the columns except for standardized name, as it has much fewer unique values\n",
    "    .drop(dept.dept_division)\n",
    "    .drop(dept.dept_name)\n",
    "    .drop(case.dept_division)\n",
    "    .withColumnRenamed(\"standardized_dept_name\", \"department\")\n",
    "    # convert to a boolean\n",
    "    .withColumn(\"dept_subject_to_SLA\", col(\"dept_subject_to_SLA\") == \"YES\")\n",
    ")\n",
    "\n",
    "comb.show(2, vertical=True)\n"
   ]
  },
  {
   "cell_type": "code",
   "execution_count": 27,
   "id": "3f18bbcd",
   "metadata": {},
   "outputs": [],
   "source": [
    "# train test split"
   ]
  },
  {
   "cell_type": "markdown",
   "id": "c8edf953",
   "metadata": {},
   "source": [
    "train, test = comb.randomSplit([0.8, 0.2])\n",
    "#OR\n",
    "train, validate, test = comb.randomSplit([0.6, 0.2, 0.2])\n"
   ]
  },
  {
   "cell_type": "code",
   "execution_count": null,
   "id": "9a62aa56",
   "metadata": {},
   "outputs": [],
   "source": []
  },
  {
   "cell_type": "markdown",
   "id": "660e6887",
   "metadata": {},
   "source": [
    "\n",
    "    1. How old is the latest (in terms of days past SLA) currently open issue? How long has the oldest (in terms of days since opened) currently opened issue been open?\n",
    "    2. How many Stray Animal cases are there?\n",
    "\n",
    "    3. How many service requests that are assigned to the Field Operations department (dept_division) are not classified as \"Officer Standby\" request type (service_request_type)?\n",
    "\n",
    "    4. Convert the council_district column to a string column.\n",
    "    5. Extract the year from the case_closed_date column.\n",
    "\n",
    "    6. Convert num_days_late from days to hours in new columns num_hours_late.\n",
    "\n",
    "    7. Join the case data with the source and department data.\n",
    "\n",
    "    8. Are there any cases that do not have a request source?\n",
    "\n",
    "    9. What are the top 10 service request types in terms of number of requests?\n",
    "    10. What are the top 10 service request types in terms of average days late?\n",
    "    11. Does number of days late depend on department?\n",
    "    12. How do number of days late depend on department and request type?\n",
    "\n",
    "You might have noticed that the latest date in the dataset is fairly far off from the present day. To account for this, replace any occurances of the current time with the maximum date from the dataset."
   ]
  },
  {
   "cell_type": "code",
   "execution_count": 28,
   "id": "9a4e6710",
   "metadata": {},
   "outputs": [],
   "source": [
    "# 1. How old is the latest (in terms of days past SLA) currently open issue? \n",
    "# How long has the oldest (in terms of days since opened) currently opened issue been open?"
   ]
  },
  {
   "cell_type": "code",
   "execution_count": null,
   "id": "8936ab7c",
   "metadata": {},
   "outputs": [],
   "source": [
    "# got from review"
   ]
  },
  {
   "cell_type": "code",
   "execution_count": 69,
   "id": "7b54e0cb",
   "metadata": {
    "scrolled": true
   },
   "outputs": [
    {
     "name": "stdout",
     "output_type": "stream",
     "text": [
      "-RECORD 0------------------------------------\n",
      " source_id            | mt13131              \n",
      " case_id              | 1014128388           \n",
      " case_opened_date     | 2018-01-02 09:39:00  \n",
      " case_closed_date     | 2018-01-02 09:39:00  \n",
      " case_due_date        | 2018-01-02 09:39:00  \n",
      " case_late            | true                 \n",
      " num_days_late        | 211.5974884          \n",
      " case_closed          | false                \n",
      " service_request_type | Complaint            \n",
      " SLA_days             | 7.0                  \n",
      " case_status          | Open                 \n",
      " request_address      | 7326  westglade p... \n",
      " council_district     | 6                    \n",
      " zipcode              | 78227                \n",
      " department           | Customer Service     \n",
      " dept_subject_to_SLA  | true                 \n",
      " source_username      | Mary A Torres        \n",
      "only showing top 1 row\n",
      "\n"
     ]
    }
   ],
   "source": [
    "case[case.case_status == 'Open'].show(1, vertical=True)"
   ]
  },
  {
   "cell_type": "code",
   "execution_count": 70,
   "id": "f39c622f",
   "metadata": {},
   "outputs": [
    {
     "name": "stdout",
     "output_type": "stream",
     "text": [
      "-RECORD 0------------------------------------\n",
      " source_id            | mt13131              \n",
      " case_id              | 1014128388           \n",
      " case_opened_date     | 2018-01-02 09:39:00  \n",
      " case_closed_date     | 2018-01-02 09:39:00  \n",
      " case_due_date        | 2018-01-02 09:39:00  \n",
      " case_late            | true                 \n",
      " num_days_late        | 211.5974884          \n",
      " case_closed          | false                \n",
      " service_request_type | Complaint            \n",
      " SLA_days             | 7.0                  \n",
      " case_status          | Open                 \n",
      " request_address      | 7326  westglade p... \n",
      " council_district     | 6                    \n",
      " zipcode              | 78227                \n",
      " department           | Customer Service     \n",
      " dept_subject_to_SLA  | true                 \n",
      " source_username      | Mary A Torres        \n",
      "only showing top 1 row\n",
      "\n"
     ]
    }
   ],
   "source": [
    "case[case.case_closed == 'false'].show(1, vertical=True)"
   ]
  },
  {
   "cell_type": "code",
   "execution_count": 72,
   "id": "d68f08e5",
   "metadata": {
    "scrolled": true
   },
   "outputs": [
    {
     "name": "stdout",
     "output_type": "stream",
     "text": [
      "+-------------------+-------------------+-----------+\n",
      "|   case_opened_date|      case_due_date|case_closed|\n",
      "+-------------------+-------------------+-----------+\n",
      "|2018-01-02 09:39:00|2018-01-02 09:39:00|      false|\n",
      "|2018-01-02 10:49:00|2018-01-02 10:49:00|      false|\n",
      "|2018-01-02 13:45:00|2018-01-02 13:45:00|      false|\n",
      "|2018-01-02 14:09:00|2018-01-02 14:09:00|      false|\n",
      "|2018-01-02 14:34:00|2018-01-02 14:34:00|      false|\n",
      "+-------------------+-------------------+-----------+\n",
      "only showing top 5 rows\n",
      "\n"
     ]
    }
   ],
   "source": [
    "case[case.case_closed == 'false'].select('case_opened_date', 'case_due_date', 'case_closed').show(5)"
   ]
  },
  {
   "cell_type": "code",
   "execution_count": 73,
   "id": "b329805d",
   "metadata": {},
   "outputs": [
    {
     "name": "stdout",
     "output_type": "stream",
     "text": [
      "+-------------------+-------------------+------------------+\n",
      "|   case_opened_date|      case_due_date|     num_days_late|\n",
      "+-------------------+-------------------+------------------+\n",
      "|2017-01-01 13:57:00|2017-01-01 13:57:00|       348.6458333|\n",
      "|2017-01-01 13:48:00|2017-01-01 13:48:00|       348.6458333|\n",
      "|2017-01-02 11:26:00|2017-01-02 11:26:00|348.52356480000003|\n",
      "|2017-01-03 10:01:00|2017-01-03 10:01:00|347.58256939999995|\n",
      "|2017-01-05 14:39:00|2017-01-05 14:39:00|       345.3894213|\n",
      "+-------------------+-------------------+------------------+\n",
      "only showing top 5 rows\n",
      "\n"
     ]
    }
   ],
   "source": [
    "case[case.case_closed == 'false']\\\n",
    "    .select('case_opened_date', 'case_due_date', 'num_days_late')\\\n",
    "    .sort(desc('num_days_late'))\\\n",
    "    .show(5)"
   ]
  },
  {
   "cell_type": "code",
   "execution_count": 74,
   "id": "09d189ac",
   "metadata": {},
   "outputs": [
    {
     "name": "stdout",
     "output_type": "stream",
     "text": [
      "+-------------------+-------------------+-----------+\n",
      "|   case_opened_date|      case_due_date|   SLA_days|\n",
      "+-------------------+-------------------+-----------+\n",
      "|2017-09-22 08:27:00|2017-09-22 08:27:00| 1419.00191|\n",
      "|2017-11-03 14:05:00|2017-11-03 14:05:00|     1419.0|\n",
      "|2017-11-21 06:57:00|2017-11-21 06:57:00|1416.063981|\n",
      "|2017-12-03 12:59:00|2017-12-03 12:59:00|1414.813009|\n",
      "|2017-01-06 08:24:00|2017-01-06 08:24:00|1406.003623|\n",
      "+-------------------+-------------------+-----------+\n",
      "only showing top 5 rows\n",
      "\n"
     ]
    }
   ],
   "source": [
    "case[case.case_closed == 'false']\\\n",
    "    .select('case_opened_date', 'case_due_date', 'SLA_days')\\\n",
    "    .sort(desc('SLA_days'))\\\n",
    "    .show(5)"
   ]
  },
  {
   "cell_type": "code",
   "execution_count": null,
   "id": "3dbda65e",
   "metadata": {},
   "outputs": [],
   "source": [
    "#from review"
   ]
  },
  {
   "cell_type": "code",
   "execution_count": 59,
   "id": "4e732af2",
   "metadata": {},
   "outputs": [
    {
     "name": "stderr",
     "output_type": "stream",
     "text": [
      "\r",
      "[Stage 78:>                                                       (0 + 10) / 10]\r"
     ]
    },
    {
     "name": "stdout",
     "output_type": "stream",
     "text": [
      "+-------------------+-------------------+------------------+\n",
      "|   case_opened_date|      case_due_date|     num_days_late|\n",
      "+-------------------+-------------------+------------------+\n",
      "|2017-01-01 13:57:00|2017-01-01 13:57:00|       348.6458333|\n",
      "|2017-01-01 13:48:00|2017-01-01 13:48:00|       348.6458333|\n",
      "|2017-01-02 11:26:00|2017-01-02 11:26:00|348.52356480000003|\n",
      "|2017-01-03 10:01:00|2017-01-03 10:01:00|347.58256939999995|\n",
      "|2017-01-05 14:39:00|2017-01-05 14:39:00|       345.3894213|\n",
      "+-------------------+-------------------+------------------+\n",
      "only showing top 5 rows\n",
      "\n"
     ]
    },
    {
     "name": "stderr",
     "output_type": "stream",
     "text": [
      "\r",
      "[Stage 78:===================================================>     (9 + 1) / 10]\r",
      "\r",
      "                                                                                \r"
     ]
    }
   ],
   "source": [
    "case.filter('! case_closed')\\\n",
    "    .select('case_opened_date', 'case_due_date', 'num_days_late')\\\n",
    "    .sort(desc('num_days_late'))\\\n",
    "    .show(5)"
   ]
  },
  {
   "cell_type": "code",
   "execution_count": 60,
   "id": "38062683",
   "metadata": {},
   "outputs": [
    {
     "name": "stdout",
     "output_type": "stream",
     "text": [
      "+-------------------+-------------------+-----------+\n",
      "|   case_opened_date|      case_due_date|   SLA_days|\n",
      "+-------------------+-------------------+-----------+\n",
      "|2017-09-22 08:27:00|2017-09-22 08:27:00| 1419.00191|\n",
      "|2017-11-03 14:05:00|2017-11-03 14:05:00|     1419.0|\n",
      "|2017-11-21 06:57:00|2017-11-21 06:57:00|1416.063981|\n",
      "|2017-12-03 12:59:00|2017-12-03 12:59:00|1414.813009|\n",
      "|2017-01-06 08:24:00|2017-01-06 08:24:00|1406.003623|\n",
      "+-------------------+-------------------+-----------+\n",
      "only showing top 5 rows\n",
      "\n"
     ]
    },
    {
     "name": "stderr",
     "output_type": "stream",
     "text": [
      "\r",
      "[Stage 81:>                                                       (0 + 10) / 10]\r",
      "\r",
      "                                                                                \r"
     ]
    }
   ],
   "source": [
    "case.filter('! case_closed')\\\n",
    "    .select('case_opened_date', 'case_due_date', 'SLA_days')\\\n",
    "    .sort(desc('SLA_days'))\\\n",
    "    .show(5)"
   ]
  },
  {
   "cell_type": "code",
   "execution_count": null,
   "id": "81814c7d",
   "metadata": {},
   "outputs": [],
   "source": []
  },
  {
   "cell_type": "code",
   "execution_count": 29,
   "id": "c062580b",
   "metadata": {},
   "outputs": [],
   "source": [
    "# 2. How many Stray Animal cases are there?"
   ]
  },
  {
   "cell_type": "code",
   "execution_count": 30,
   "id": "fffb1103",
   "metadata": {},
   "outputs": [
    {
     "name": "stderr",
     "output_type": "stream",
     "text": [
      "                                                                                \r"
     ]
    },
    {
     "data": {
      "text/plain": [
       "26760"
      ]
     },
     "execution_count": 30,
     "metadata": {},
     "output_type": "execute_result"
    }
   ],
   "source": [
    "case.filter(case.service_request_type == lit('Stray Animal')).count()"
   ]
  },
  {
   "cell_type": "code",
   "execution_count": null,
   "id": "2d3c8b67",
   "metadata": {},
   "outputs": [],
   "source": []
  },
  {
   "cell_type": "code",
   "execution_count": 31,
   "id": "b46950d4",
   "metadata": {},
   "outputs": [
    {
     "name": "stderr",
     "output_type": "stream",
     "text": [
      "[Stage 29:=====>                                                   (1 + 9) / 10]\r"
     ]
    },
    {
     "name": "stdout",
     "output_type": "stream",
     "text": [
      "+---------------------------------+-----+\n",
      "|service_request_type             |count|\n",
      "+---------------------------------+-----+\n",
      "|No Pickup                        |86855|\n",
      "|Overgrown Yard/Trash             |65895|\n",
      "|Bandit Signs                     |32910|\n",
      "|Damaged Cart                     |30338|\n",
      "|Front Or Side Yard Parking       |28794|\n",
      "|Stray Animal                     |26760|\n",
      "|Aggressive Animal(Non-Critical)  |24882|\n",
      "|Cart Exchange Request            |22024|\n",
      "|Junk Vehicle On Private Property |21473|\n",
      "|Pot Hole Repair                  |20616|\n",
      "|Alley-Way Maintenance            |20214|\n",
      "|Lost/Stolen Cart                 |18731|\n",
      "|Right Of Way/Sidewalk Obstruction|17699|\n",
      "|Dead Animal - Dog                |16714|\n",
      "|Cart Delivery                    |15471|\n",
      "|Dead Animal - Cat                |14983|\n",
      "|Animal Neglect                   |13441|\n",
      "|Dead Animal - Misc               |13234|\n",
      "|Trapped/Confined Animal          |11354|\n",
      "|Public Nuisance(Own Animal)      |10715|\n",
      "+---------------------------------+-----+\n",
      "only showing top 20 rows\n",
      "\n"
     ]
    },
    {
     "name": "stderr",
     "output_type": "stream",
     "text": [
      "\r",
      "                                                                                \r"
     ]
    }
   ],
   "source": [
    "#from review-also looked at\n",
    "case.groupby('service_request_type')\\\n",
    "    .count()\\\n",
    "    .sort(desc('count'))\\\n",
    "    .show(truncate=False)"
   ]
  },
  {
   "cell_type": "code",
   "execution_count": null,
   "id": "d7a75eb6",
   "metadata": {},
   "outputs": [],
   "source": []
  },
  {
   "cell_type": "code",
   "execution_count": 32,
   "id": "5f75548a",
   "metadata": {},
   "outputs": [],
   "source": [
    "# 3. How many service requests that are assigned to the Field Operations department (dept_division) are not classified as \"Officer Standby\" request type (service_request_type)?"
   ]
  },
  {
   "cell_type": "code",
   "execution_count": 33,
   "id": "abb7dab0",
   "metadata": {},
   "outputs": [
    {
     "data": {
      "text/plain": [
       "113902"
      ]
     },
     "execution_count": 33,
     "metadata": {},
     "output_type": "execute_result"
    }
   ],
   "source": [
    "case.filter(case.dept_division == 'Field Operations')\\\n",
    "    .filter(case.service_request_type != 'Officer Standby')\\\n",
    "    .count()"
   ]
  },
  {
   "cell_type": "code",
   "execution_count": 34,
   "id": "54fe17f3",
   "metadata": {},
   "outputs": [],
   "source": [
    "# 4. Convert the council_district column to a string column."
   ]
  },
  {
   "cell_type": "code",
   "execution_count": 35,
   "id": "8775a7db",
   "metadata": {},
   "outputs": [],
   "source": [
    "# i did this above, but we can verify it again\n",
    "case = case.withColumn('council_district', col('council_district').cast('string'))\n"
   ]
  },
  {
   "cell_type": "code",
   "execution_count": 36,
   "id": "9a7d8e0e",
   "metadata": {},
   "outputs": [],
   "source": [
    "# 5. Extract the year from the case_closed_date column."
   ]
  },
  {
   "cell_type": "code",
   "execution_count": 37,
   "id": "f7b07956",
   "metadata": {},
   "outputs": [
    {
     "name": "stdout",
     "output_type": "stream",
     "text": [
      "+--------------------+-------------------+----+\n",
      "|service_request_type|   case_closed_date|year|\n",
      "+--------------------+-------------------+----+\n",
      "|        Stray Animal|2018-01-01 00:42:00|2018|\n",
      "|Removal Of Obstru...|2018-01-01 00:46:00|2018|\n",
      "|Removal Of Obstru...|2018-01-01 00:48:00|2018|\n",
      "|Front Or Side Yar...|2018-01-01 01:29:00|2018|\n",
      "|Animal Cruelty(Cr...|2018-01-01 01:34:00|2018|\n",
      "+--------------------+-------------------+----+\n",
      "only showing top 5 rows\n",
      "\n"
     ]
    }
   ],
   "source": [
    "case.withColumn('year', year('case_closed_date'))\\\n",
    "    .select('service_request_type', 'case_closed_date', 'year')\\\n",
    "    .show(5)"
   ]
  },
  {
   "cell_type": "code",
   "execution_count": 38,
   "id": "cbfb9977",
   "metadata": {},
   "outputs": [],
   "source": [
    "# 6. Convert num_days_late from days to hours in new columns num_hours_late."
   ]
  },
  {
   "cell_type": "code",
   "execution_count": 39,
   "id": "0450e63b",
   "metadata": {},
   "outputs": [
    {
     "name": "stdout",
     "output_type": "stream",
     "text": [
      "+-------------------+--------------+\n",
      "|      num_days_late|num_hours_late|\n",
      "+-------------------+--------------+\n",
      "| -998.5087616000001|      -23964.2|\n",
      "|-2.0126041669999997|         -48.3|\n",
      "|       -3.022337963|         -72.5|\n",
      "|       -15.01148148|        -360.3|\n",
      "|0.37216435200000003|           8.9|\n",
      "|       -29.74398148|        -713.9|\n",
      "|       -14.70673611|        -353.0|\n",
      "|       -14.70662037|        -353.0|\n",
      "|       -14.70662037|        -353.0|\n",
      "|       -14.70649306|        -353.0|\n",
      "+-------------------+--------------+\n",
      "only showing top 10 rows\n",
      "\n"
     ]
    }
   ],
   "source": [
    "case.withColumn('num_hours_late', round(expr('num_days_late * 24'), 1))\\\n",
    "    .select('num_days_late', 'num_hours_late')\\\n",
    "    .show(10)"
   ]
  },
  {
   "cell_type": "code",
   "execution_count": 40,
   "id": "1d628337",
   "metadata": {},
   "outputs": [],
   "source": [
    "case = case.withColumn('num_hours_late', round(expr('num_days_late * 24'), 1))"
   ]
  },
  {
   "cell_type": "code",
   "execution_count": 41,
   "id": "f1ee70b8",
   "metadata": {},
   "outputs": [],
   "source": [
    "# 7. Join the case data with the source and department data."
   ]
  },
  {
   "cell_type": "code",
   "execution_count": 42,
   "id": "a159365a",
   "metadata": {},
   "outputs": [],
   "source": [
    "#comb = case + dept\n",
    "# now do:\n",
    "# combo = comb + source\n",
    "\n",
    "#set case = combo"
   ]
  },
  {
   "cell_type": "code",
   "execution_count": 43,
   "id": "764d51ec",
   "metadata": {
    "scrolled": false
   },
   "outputs": [
    {
     "name": "stdout",
     "output_type": "stream",
     "text": [
      "-RECORD 0------------------------------------\n",
      " case_id              | 1014127332           \n",
      " case_opened_date     | 2018-01-01 00:42:00  \n",
      " case_closed_date     | 2018-01-01 00:42:00  \n",
      " case_due_date        | 2018-01-01 00:42:00  \n",
      " case_late            | false                \n",
      " num_days_late        | -998.5087616000001   \n",
      " case_closed          | true                 \n",
      " service_request_type | Stray Animal         \n",
      " SLA_days             | 999.0                \n",
      " case_status          | Closed               \n",
      " source_id            | svcCRMLS             \n",
      " request_address      | 2315  el paso st,... \n",
      " council_district     | 5                    \n",
      " zipcode              | 78207                \n",
      " department           | Animal Care Services \n",
      " dept_subject_to_SLA  | true                 \n",
      "only showing top 1 row\n",
      "\n"
     ]
    }
   ],
   "source": [
    "comb.show(1, vertical=True)"
   ]
  },
  {
   "cell_type": "code",
   "execution_count": 44,
   "id": "652957aa",
   "metadata": {},
   "outputs": [
    {
     "name": "stdout",
     "output_type": "stream",
     "text": [
      "-RECORD 0---------------------------\n",
      " source_id       | 100137           \n",
      " source_username | Merlene Blodgett \n",
      "only showing top 1 row\n",
      "\n"
     ]
    }
   ],
   "source": [
    "source.show(1, vertical=True)"
   ]
  },
  {
   "cell_type": "code",
   "execution_count": 45,
   "id": "5d2bddc1",
   "metadata": {},
   "outputs": [
    {
     "name": "stdout",
     "output_type": "stream",
     "text": [
      "-RECORD 0------------------------------------\n",
      " source_id            | svcCRMLS             \n",
      " case_id              | 1014127332           \n",
      " case_opened_date     | 2018-01-01 00:42:00  \n",
      " case_closed_date     | 2018-01-01 00:42:00  \n",
      " case_due_date        | 2018-01-01 00:42:00  \n",
      " case_late            | false                \n",
      " num_days_late        | -998.5087616000001   \n",
      " case_closed          | true                 \n",
      " service_request_type | Stray Animal         \n",
      " SLA_days             | 999.0                \n",
      " case_status          | Closed               \n",
      " request_address      | 2315  el paso st,... \n",
      " council_district     | 5                    \n",
      " zipcode              | 78207                \n",
      " department           | Animal Care Services \n",
      " dept_subject_to_SLA  | true                 \n",
      " source_username      | svcCRMLS             \n",
      "-RECORD 1------------------------------------\n",
      " source_id            | svcCRMSS             \n",
      " case_id              | 1014127333           \n",
      " case_opened_date     | 2018-01-01 00:46:00  \n",
      " case_closed_date     | 2018-01-01 00:46:00  \n",
      " case_due_date        | 2018-01-01 00:46:00  \n",
      " case_late            | false                \n",
      " num_days_late        | -2.0126041669999997  \n",
      " case_closed          | true                 \n",
      " service_request_type | Removal Of Obstru... \n",
      " SLA_days             | 4.322222222          \n",
      " case_status          | Closed               \n",
      " request_address      | 2215  goliad rd, ... \n",
      " council_district     | 3                    \n",
      " zipcode              | 78223                \n",
      " department           | Trans & Cap Impro... \n",
      " dept_subject_to_SLA  | true                 \n",
      " source_username      | svcCRMSS             \n",
      "only showing top 2 rows\n",
      "\n"
     ]
    }
   ],
   "source": [
    "combo = (\n",
    "    comb\n",
    "    # left join on dept_division\n",
    "    .join(source, \"source_id\", \"left\")\n",
    ")\n",
    "\n",
    "combo.show(2, vertical=True)\n"
   ]
  },
  {
   "cell_type": "code",
   "execution_count": 46,
   "id": "334a9eb8",
   "metadata": {},
   "outputs": [],
   "source": [
    "case = combo"
   ]
  },
  {
   "cell_type": "code",
   "execution_count": 47,
   "id": "bf55756a",
   "metadata": {},
   "outputs": [
    {
     "name": "stdout",
     "output_type": "stream",
     "text": [
      "-RECORD 0------------------------------------\n",
      " source_id            | svcCRMLS             \n",
      " case_id              | 1014127332           \n",
      " case_opened_date     | 2018-01-01 00:42:00  \n",
      " case_closed_date     | 2018-01-01 00:42:00  \n",
      " case_due_date        | 2018-01-01 00:42:00  \n",
      " case_late            | false                \n",
      " num_days_late        | -998.5087616000001   \n",
      " case_closed          | true                 \n",
      " service_request_type | Stray Animal         \n",
      " SLA_days             | 999.0                \n",
      " case_status          | Closed               \n",
      " request_address      | 2315  el paso st,... \n",
      " council_district     | 5                    \n",
      " zipcode              | 78207                \n",
      " department           | Animal Care Services \n",
      " dept_subject_to_SLA  | true                 \n",
      " source_username      | svcCRMLS             \n",
      "only showing top 1 row\n",
      "\n"
     ]
    }
   ],
   "source": [
    "case.show(1, vertical=True)"
   ]
  },
  {
   "cell_type": "code",
   "execution_count": 48,
   "id": "eaa27aaf",
   "metadata": {},
   "outputs": [],
   "source": [
    "# 8. Are there any cases that do not have a request source?"
   ]
  },
  {
   "cell_type": "code",
   "execution_count": 49,
   "id": "0d93722f",
   "metadata": {},
   "outputs": [
    {
     "data": {
      "text/plain": [
       "0"
      ]
     },
     "execution_count": 49,
     "metadata": {},
     "output_type": "execute_result"
    }
   ],
   "source": [
    "case.filter(case.source_id == 'null').count()"
   ]
  },
  {
   "cell_type": "code",
   "execution_count": 50,
   "id": "205fe45b",
   "metadata": {},
   "outputs": [
    {
     "data": {
      "text/plain": [
       "0"
      ]
     },
     "execution_count": 50,
     "metadata": {},
     "output_type": "execute_result"
    }
   ],
   "source": [
    "case.filter(case.source_id == '').count()"
   ]
  },
  {
   "cell_type": "code",
   "execution_count": 51,
   "id": "3517ecd6",
   "metadata": {},
   "outputs": [],
   "source": [
    "# 9. What are the top 10 service request types in terms of number of requests? #modeled after review"
   ]
  },
  {
   "cell_type": "code",
   "execution_count": 52,
   "id": "30f1f1b0",
   "metadata": {},
   "outputs": [
    {
     "name": "stderr",
     "output_type": "stream",
     "text": [
      "\r",
      "[Stage 58:>                                                       (0 + 10) / 10]\r"
     ]
    },
    {
     "name": "stdout",
     "output_type": "stream",
     "text": [
      "+--------------------+-----+\n",
      "|service_request_type|count|\n",
      "+--------------------+-----+\n",
      "|           No Pickup|89210|\n",
      "|Overgrown Yard/Trash|66403|\n",
      "|        Bandit Signs|32968|\n",
      "|        Damaged Cart|31163|\n",
      "|Front Or Side Yar...|28920|\n",
      "|        Stray Animal|27361|\n",
      "|Aggressive Animal...|25492|\n",
      "|Cart Exchange Req...|22608|\n",
      "|Junk Vehicle On P...|21649|\n",
      "|     Pot Hole Repair|20827|\n",
      "+--------------------+-----+\n",
      "only showing top 10 rows\n",
      "\n"
     ]
    },
    {
     "name": "stderr",
     "output_type": "stream",
     "text": [
      "\r",
      "                                                                                \r"
     ]
    }
   ],
   "source": [
    "case.groupBy('service_request_type')\\\n",
    "    .count()\\\n",
    "    .sort(desc('count'))\\\n",
    "    .show(10)"
   ]
  },
  {
   "cell_type": "code",
   "execution_count": 53,
   "id": "2367083b",
   "metadata": {},
   "outputs": [],
   "source": [
    "# 10. What are the top 10 service request types in terms of average days late?"
   ]
  },
  {
   "cell_type": "code",
   "execution_count": 54,
   "id": "89aca15d",
   "metadata": {},
   "outputs": [
    {
     "name": "stderr",
     "output_type": "stream",
     "text": [
      "[Stage 63:=====>                                                   (1 + 9) / 10]\r"
     ]
    },
    {
     "name": "stdout",
     "output_type": "stream",
     "text": [
      "+--------------------+--------+\n",
      "|service_request_type|avg_late|\n",
      "+--------------------+--------+\n",
      "|  Zoning: Junk Yards|   176.0|\n",
      "|Labeling for Used...|   162.4|\n",
      "|Record Keeping of...|   154.0|\n",
      "|Signage Requied f...|   151.6|\n",
      "|Storage of Used M...|   142.1|\n",
      "|Zoning: Recycle Yard|   135.9|\n",
      "|Donation Containe...|   131.8|\n",
      "|License Requied U...|   128.8|\n",
      "|Traffic Signal Gr...|   101.8|\n",
      "|           Complaint|    72.9|\n",
      "+--------------------+--------+\n",
      "only showing top 10 rows\n",
      "\n"
     ]
    },
    {
     "name": "stderr",
     "output_type": "stream",
     "text": [
      "\r",
      "                                                                                \r"
     ]
    }
   ],
   "source": [
    "case.groupBy('service_request_type')\\\n",
    "    .agg(round(mean('num_days_late'), 1).alias('avg_late'))\\\n",
    "    .sort(desc('avg_late'))\\\n",
    "    .show(10)"
   ]
  },
  {
   "cell_type": "code",
   "execution_count": 55,
   "id": "a0af6aae",
   "metadata": {},
   "outputs": [],
   "source": [
    "# 11. Does number of days late depend on department?"
   ]
  },
  {
   "cell_type": "code",
   "execution_count": 56,
   "id": "b2a43548",
   "metadata": {},
   "outputs": [
    {
     "name": "stderr",
     "output_type": "stream",
     "text": [
      "\r",
      "[Stage 68:>                                                       (0 + 10) / 10]\r"
     ]
    },
    {
     "name": "stdout",
     "output_type": "stream",
     "text": [
      "+--------------------+--------+\n",
      "|          department|avg_late|\n",
      "+--------------------+--------+\n",
      "|    Customer Service|    59.7|\n",
      "|         Solid Waste|    -2.2|\n",
      "|        Metro Health|    -4.9|\n",
      "|  Parks & Recreation|    -5.3|\n",
      "|Trans & Cap Impro...|   -20.6|\n",
      "|DSD/Code Enforcement|   -38.4|\n",
      "|Animal Care Services|  -226.5|\n",
      "|        City Council|    null|\n",
      "+--------------------+--------+\n",
      "\n"
     ]
    },
    {
     "name": "stderr",
     "output_type": "stream",
     "text": [
      "\r",
      "                                                                                \r"
     ]
    }
   ],
   "source": [
    "case.groupBy('department')\\\n",
    "    .agg(round(mean('num_days_late'), 1).alias('avg_late'))\\\n",
    "    .sort(desc('avg_late'))\\\n",
    "    .show(10)"
   ]
  },
  {
   "cell_type": "code",
   "execution_count": 57,
   "id": "e8d186ac",
   "metadata": {},
   "outputs": [],
   "source": [
    "# 12. How do number of days late depend on department and request type?"
   ]
  },
  {
   "cell_type": "code",
   "execution_count": 58,
   "id": "af764072",
   "metadata": {},
   "outputs": [
    {
     "name": "stderr",
     "output_type": "stream",
     "text": [
      "\r",
      "[Stage 73:>                                                       (0 + 10) / 10]\r"
     ]
    },
    {
     "name": "stdout",
     "output_type": "stream",
     "text": [
      "+--------------------+--------------------+-------------+\n",
      "|          department|service_request_type|avg_days_late|\n",
      "+--------------------+--------------------+-------------+\n",
      "|Animal Care Services|Animal Bite(Non-C...|         -2.5|\n",
      "|Animal Care Services|Spay/Neuter Reque...|         -7.0|\n",
      "|Animal Care Services|Animal Bite(Criti...|          0.0|\n",
      "|Animal Care Services|Animal Cruelty(Cr...|         -0.1|\n",
      "|Animal Care Services|Public Nuisance(O...|         -2.2|\n",
      "|Animal Care Services|Aggressive Animal...|         16.7|\n",
      "|Animal Care Services|Trapped/Confined ...|          0.2|\n",
      "|Animal Care Services|      Animal Neglect|          7.3|\n",
      "|Animal Care Services|     Officer Standby|         -0.1|\n",
      "|Animal Care Services|City Council Anim...|         -1.5|\n",
      "|Animal Care Services|Animal Permits Re...|         22.2|\n",
      "|Animal Care Services|Aggressive Animal...|          2.6|\n",
      "|Animal Care Services|Injured Animal(Cr...|         -0.1|\n",
      "|Animal Care Services|        Stray Animal|       -998.8|\n",
      "|        City Council|Request for Resea...|         null|\n",
      "|        City Council|CCO_Request for R...|         null|\n",
      "|    Customer Service|           Complaint|         72.9|\n",
      "|    Customer Service|          Compliment|         -8.0|\n",
      "|DSD/Code Enforcement|Zoning: Oversized...|         -4.7|\n",
      "|DSD/Code Enforcement|Dang Premises/Sec...|        -39.9|\n",
      "|DSD/Code Enforcement|Graffiti: Vacant ...|        -69.1|\n",
      "|DSD/Code Enforcement|  Zoning: Junk Yards|        176.0|\n",
      "|DSD/Code Enforcement|    Vehicle Blocking|          0.0|\n",
      "|DSD/Code Enforcement|Animal Investigat...|        -41.0|\n",
      "|DSD/Code Enforcement|Zoning: Recycle Yard|        135.9|\n",
      "|DSD/Code Enforcement|\"Vacant Lot-City ...|        -45.2|\n",
      "|DSD/Code Enforcement|     Permits, Fences|        -14.2|\n",
      "|DSD/Code Enforcement|   Water No Services|       -113.7|\n",
      "|DSD/Code Enforcement|DSDB Ordered/Hold...|        -12.4|\n",
      "|DSD/Code Enforcement|\"Vacant Lot-State...|        -50.4|\n",
      "|DSD/Code Enforcement|Improper Storage ...|        -59.2|\n",
      "|DSD/Code Enforcement|Zoning: Mobile Homes|        -87.6|\n",
      "|DSD/Code Enforcement|      Graffiti: Curb|         -1.9|\n",
      "|DSD/Code Enforcement| Graffiti: Guardrail|         -1.8|\n",
      "|DSD/Code Enforcement|             Vendors|         66.5|\n",
      "|DSD/Code Enforcement|Wasting Water (Le...|       -113.6|\n",
      "|DSD/Code Enforcement|CPS Energy Metal ...|       -129.2|\n",
      "|DSD/Code Enforcement|\"Vacant Lot-Priva...|        -40.6|\n",
      "|DSD/Code Enforcement|Dang. Premises/CL...|        -40.2|\n",
      "|DSD/Code Enforcement|Fly Breeding and ...|        -56.7|\n",
      "|DSD/Code Enforcement|DSDB Ordered/Hold...|         -4.7|\n",
      "|DSD/Code Enforcement|Zoning: Illumination|        -98.9|\n",
      "|DSD/Code Enforcement|Right Of Way/Side...|         -8.2|\n",
      "|DSD/Code Enforcement|Graffiti: Drainag...|         -0.6|\n",
      "|DSD/Code Enforcement|Graffiti: Traffic...|         -0.8|\n",
      "|DSD/Code Enforcement|\"Vacant Lot-Count...|        -40.7|\n",
      "|DSD/Code Enforcement|   Sewer Line Broken|        -53.8|\n",
      "|DSD/Code Enforcement|Junk Vehicle On P...|        -42.7|\n",
      "|DSD/Code Enforcement|    Zoning: Setbacks|        -85.3|\n",
      "|DSD/Code Enforcement|Low Hanging Limbs...|       -112.8|\n",
      "+--------------------+--------------------+-------------+\n",
      "only showing top 50 rows\n",
      "\n"
     ]
    },
    {
     "name": "stderr",
     "output_type": "stream",
     "text": [
      "\r",
      "                                                                                \r"
     ]
    }
   ],
   "source": [
    "case.groupBy('department', 'service_request_type')\\\n",
    "    .agg(round(avg('num_days_late'), 1).alias('avg_days_late'))\\\n",
    "    .sort('department')\\\n",
    "    .show(50)"
   ]
  },
  {
   "cell_type": "code",
   "execution_count": null,
   "id": "52ec33ce",
   "metadata": {},
   "outputs": [],
   "source": []
  },
  {
   "cell_type": "code",
   "execution_count": null,
   "id": "0c05bcc7",
   "metadata": {},
   "outputs": [],
   "source": []
  },
  {
   "cell_type": "code",
   "execution_count": null,
   "id": "04746518",
   "metadata": {},
   "outputs": [],
   "source": []
  }
 ],
 "metadata": {
  "kernelspec": {
   "display_name": "Python 3 (ipykernel)",
   "language": "python",
   "name": "python3"
  },
  "language_info": {
   "codemirror_mode": {
    "name": "ipython",
    "version": 3
   },
   "file_extension": ".py",
   "mimetype": "text/x-python",
   "name": "python",
   "nbconvert_exporter": "python",
   "pygments_lexer": "ipython3",
   "version": "3.9.12"
  }
 },
 "nbformat": 4,
 "nbformat_minor": 5
}
