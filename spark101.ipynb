{
 "cells": [
  {
   "cell_type": "code",
   "execution_count": 17,
   "id": "69ede58b",
   "metadata": {},
   "outputs": [],
   "source": [
    "import pyspark\n",
    "import pandas as pd\n",
    "import numpy as np\n",
    "from pyspark.sql.functions import *\n",
    "\n",
    "spark = pyspark.sql.SparkSession.builder.getOrCreate()"
   ]
  },
  {
   "cell_type": "code",
   "execution_count": null,
   "id": "bc85159b",
   "metadata": {},
   "outputs": [],
   "source": []
  },
  {
   "cell_type": "markdown",
   "id": "428809ee",
   "metadata": {},
   "source": [
    "# 1\n",
    "\n",
    "Create a spark data frame that contains your favorite programming languages.\n",
    "\n",
    "    The name of the column should be language\n",
    "    View the schema of the dataframe\n",
    "    Output the shape of the dataframe\n",
    "    Show the first 5 records in the dataframe\n",
    "\n"
   ]
  },
  {
   "cell_type": "code",
   "execution_count": 2,
   "id": "f0e828ba",
   "metadata": {},
   "outputs": [],
   "source": [
    "df = pd.DataFrame({'language':['python', 'numpy', 'C++', 'candy', 'java', 'French']})"
   ]
  },
  {
   "cell_type": "code",
   "execution_count": 3,
   "id": "12d6ae55",
   "metadata": {},
   "outputs": [
    {
     "data": {
      "text/html": [
       "<div>\n",
       "<style scoped>\n",
       "    .dataframe tbody tr th:only-of-type {\n",
       "        vertical-align: middle;\n",
       "    }\n",
       "\n",
       "    .dataframe tbody tr th {\n",
       "        vertical-align: top;\n",
       "    }\n",
       "\n",
       "    .dataframe thead th {\n",
       "        text-align: right;\n",
       "    }\n",
       "</style>\n",
       "<table border=\"1\" class=\"dataframe\">\n",
       "  <thead>\n",
       "    <tr style=\"text-align: right;\">\n",
       "      <th></th>\n",
       "      <th>language</th>\n",
       "    </tr>\n",
       "  </thead>\n",
       "  <tbody>\n",
       "    <tr>\n",
       "      <th>0</th>\n",
       "      <td>python</td>\n",
       "    </tr>\n",
       "    <tr>\n",
       "      <th>1</th>\n",
       "      <td>numpy</td>\n",
       "    </tr>\n",
       "    <tr>\n",
       "      <th>2</th>\n",
       "      <td>C++</td>\n",
       "    </tr>\n",
       "    <tr>\n",
       "      <th>3</th>\n",
       "      <td>candy</td>\n",
       "    </tr>\n",
       "    <tr>\n",
       "      <th>4</th>\n",
       "      <td>java</td>\n",
       "    </tr>\n",
       "    <tr>\n",
       "      <th>5</th>\n",
       "      <td>French</td>\n",
       "    </tr>\n",
       "  </tbody>\n",
       "</table>\n",
       "</div>"
      ],
      "text/plain": [
       "  language\n",
       "0   python\n",
       "1    numpy\n",
       "2      C++\n",
       "3    candy\n",
       "4     java\n",
       "5   French"
      ]
     },
     "execution_count": 3,
     "metadata": {},
     "output_type": "execute_result"
    }
   ],
   "source": [
    "df"
   ]
  },
  {
   "cell_type": "code",
   "execution_count": 4,
   "id": "29f02213",
   "metadata": {},
   "outputs": [],
   "source": [
    "dfs = spark.createDataFrame(df)"
   ]
  },
  {
   "cell_type": "code",
   "execution_count": 5,
   "id": "db0dde2e",
   "metadata": {},
   "outputs": [
    {
     "data": {
      "text/plain": [
       "DataFrame[language: string]"
      ]
     },
     "execution_count": 5,
     "metadata": {},
     "output_type": "execute_result"
    }
   ],
   "source": [
    "dfs"
   ]
  },
  {
   "cell_type": "code",
   "execution_count": 6,
   "id": "f43a4812",
   "metadata": {
    "scrolled": true
   },
   "outputs": [
    {
     "name": "stderr",
     "output_type": "stream",
     "text": [
      "                                                                                \r"
     ]
    },
    {
     "name": "stdout",
     "output_type": "stream",
     "text": [
      "+--------+\n",
      "|language|\n",
      "+--------+\n",
      "|  python|\n",
      "|   numpy|\n",
      "|     C++|\n",
      "|   candy|\n",
      "|    java|\n",
      "+--------+\n",
      "only showing top 5 rows\n",
      "\n"
     ]
    }
   ],
   "source": [
    "dfs.show(5)"
   ]
  },
  {
   "cell_type": "code",
   "execution_count": 7,
   "id": "fb8f8d45",
   "metadata": {},
   "outputs": [
    {
     "name": "stderr",
     "output_type": "stream",
     "text": [
      "                                                                                \r"
     ]
    },
    {
     "data": {
      "text/plain": [
       "DataFrame[summary: string, language: string]"
      ]
     },
     "execution_count": 7,
     "metadata": {},
     "output_type": "execute_result"
    }
   ],
   "source": [
    "dfs.describe()"
   ]
  },
  {
   "cell_type": "code",
   "execution_count": 8,
   "id": "44334421",
   "metadata": {},
   "outputs": [
    {
     "name": "stdout",
     "output_type": "stream",
     "text": [
      "6 rows 1 columns\n"
     ]
    }
   ],
   "source": [
    "print(dfs.count(), 'rows', len(dfs.columns), 'columns')"
   ]
  },
  {
   "cell_type": "code",
   "execution_count": 9,
   "id": "df6c00de",
   "metadata": {},
   "outputs": [
    {
     "name": "stdout",
     "output_type": "stream",
     "text": [
      "root\n",
      " |-- language: string (nullable = true)\n",
      "\n"
     ]
    }
   ],
   "source": [
    "dfs.printSchema()"
   ]
  },
  {
   "cell_type": "markdown",
   "id": "f7699696",
   "metadata": {},
   "source": [
    "# 2\n",
    "Load the mpg dataset as a spark dataframe.\n",
    "\n",
    "    Create 1 column of output that contains a message like the one below:\n",
    "\n",
    "The 1999 audi a4 has a 4 cylinder engine.\n",
    "\n",
    "For each vehicle.\n",
    "\n",
    "Transform the trans column so that it only contains either manual or auto.\n"
   ]
  },
  {
   "cell_type": "code",
   "execution_count": 10,
   "id": "4572a9ee",
   "metadata": {
    "scrolled": true
   },
   "outputs": [
    {
     "name": "stdout",
     "output_type": "stream",
     "text": [
      "+------------+-----+-----+----+---+----------+---+---+---+---+-------+\n",
      "|manufacturer|model|displ|year|cyl|     trans|drv|cty|hwy| fl|  class|\n",
      "+------------+-----+-----+----+---+----------+---+---+---+---+-------+\n",
      "|        audi|   a4|  1.8|1999|  4|  auto(l5)|  f| 18| 29|  p|compact|\n",
      "|        audi|   a4|  1.8|1999|  4|manual(m5)|  f| 21| 29|  p|compact|\n",
      "|        audi|   a4|  2.0|2008|  4|manual(m6)|  f| 20| 31|  p|compact|\n",
      "|        audi|   a4|  2.0|2008|  4|  auto(av)|  f| 21| 30|  p|compact|\n",
      "|        audi|   a4|  2.8|1999|  6|  auto(l5)|  f| 16| 26|  p|compact|\n",
      "+------------+-----+-----+----+---+----------+---+---+---+---+-------+\n",
      "only showing top 5 rows\n",
      "\n"
     ]
    }
   ],
   "source": [
    "from pydataset import data\n",
    "\n",
    "mpg = spark.createDataFrame(data(\"mpg\"))\n",
    "mpg.show(5)"
   ]
  },
  {
   "cell_type": "code",
   "execution_count": 11,
   "id": "eea6fd94",
   "metadata": {},
   "outputs": [
    {
     "name": "stdout",
     "output_type": "stream",
     "text": [
      "root\n",
      " |-- manufacturer: string (nullable = true)\n",
      " |-- model: string (nullable = true)\n",
      " |-- displ: double (nullable = true)\n",
      " |-- year: long (nullable = true)\n",
      " |-- cyl: long (nullable = true)\n",
      " |-- trans: string (nullable = true)\n",
      " |-- drv: string (nullable = true)\n",
      " |-- cty: long (nullable = true)\n",
      " |-- hwy: long (nullable = true)\n",
      " |-- fl: string (nullable = true)\n",
      " |-- class: string (nullable = true)\n",
      "\n"
     ]
    }
   ],
   "source": [
    "mpg.printSchema()"
   ]
  },
  {
   "cell_type": "code",
   "execution_count": 12,
   "id": "2d858959",
   "metadata": {
    "scrolled": true
   },
   "outputs": [
    {
     "name": "stdout",
     "output_type": "stream",
     "text": [
      "The Column<'year'> Column<'manufacturer'> Column<'model'> has a Column<'cyl'> cylinder engine\n"
     ]
    }
   ],
   "source": [
    "#The 1999 audi a4 has a 4 cylinder engine.\n",
    "\n",
    "print('The', mpg.year, mpg.manufacturer, mpg.model, 'has a', mpg.cyl, 'cylinder engine')"
   ]
  },
  {
   "cell_type": "code",
   "execution_count": 20,
   "id": "ef46700c",
   "metadata": {},
   "outputs": [],
   "source": [
    "#The 1999 audi a4 has a 4 cylinder engine.\n",
    "\n",
    "#col1 = ('The', mpg.year, mpg.manufacturer, mpg.model, 'has a', mpg.cyl, 'cylinder engine').alias('message')\n",
    "\n",
    "\n",
    "#mpg.select('The', mpg.year, mpg.manufacturer, mpg.model, 'has a', mpg.cyl, 'cylinder engine').alias('message').show(5)\n",
    "\n",
    "\n",
    "# I needed to specify 'lit'"
   ]
  },
  {
   "cell_type": "code",
   "execution_count": 18,
   "id": "131f2199",
   "metadata": {},
   "outputs": [
    {
     "name": "stdout",
     "output_type": "stream",
     "text": [
      "+--------------------------------------------------------------+\n",
      "|vehicle_cylinder_desc                                         |\n",
      "+--------------------------------------------------------------+\n",
      "|The 1999 audi a4 has a 4 cylinder engine.                     |\n",
      "|The 1999 audi a4 has a 4 cylinder engine.                     |\n",
      "|The 2008 audi a4 has a 4 cylinder engine.                     |\n",
      "|The 2008 audi a4 has a 4 cylinder engine.                     |\n",
      "|The 1999 audi a4 has a 6 cylinder engine.                     |\n",
      "|The 1999 audi a4 has a 6 cylinder engine.                     |\n",
      "|The 2008 audi a4 has a 6 cylinder engine.                     |\n",
      "|The 1999 audi a4 quattro has a 4 cylinder engine.             |\n",
      "|The 1999 audi a4 quattro has a 4 cylinder engine.             |\n",
      "|The 2008 audi a4 quattro has a 4 cylinder engine.             |\n",
      "|The 2008 audi a4 quattro has a 4 cylinder engine.             |\n",
      "|The 1999 audi a4 quattro has a 6 cylinder engine.             |\n",
      "|The 1999 audi a4 quattro has a 6 cylinder engine.             |\n",
      "|The 2008 audi a4 quattro has a 6 cylinder engine.             |\n",
      "|The 2008 audi a4 quattro has a 6 cylinder engine.             |\n",
      "|The 1999 audi a6 quattro has a 6 cylinder engine.             |\n",
      "|The 2008 audi a6 quattro has a 6 cylinder engine.             |\n",
      "|The 2008 audi a6 quattro has a 8 cylinder engine.             |\n",
      "|The 2008 chevrolet c1500 suburban 2wd has a 8 cylinder engine.|\n",
      "|The 2008 chevrolet c1500 suburban 2wd has a 8 cylinder engine.|\n",
      "+--------------------------------------------------------------+\n",
      "only showing top 20 rows\n",
      "\n"
     ]
    }
   ],
   "source": [
    "# from class review\n",
    "mpg.select(\n",
    "    concat(\n",
    "        lit(\"The \"),\n",
    "        col(\"year\"),\n",
    "        lit(\" \"),\n",
    "        col(\"manufacturer\"),\n",
    "        lit(\" \"),\n",
    "        col(\"model\"),\n",
    "        lit(\" has a \"),\n",
    "        col(\"cyl\"),\n",
    "        lit(\" cylinder engine.\"),\n",
    "    ).alias(\"vehicle_cylinder_desc\")\n",
    ").show(truncate=False)"
   ]
  },
  {
   "cell_type": "code",
   "execution_count": null,
   "id": "d3baa4db",
   "metadata": {},
   "outputs": [],
   "source": []
  },
  {
   "cell_type": "markdown",
   "id": "32b34db0",
   "metadata": {},
   "source": [
    "# 2b"
   ]
  },
  {
   "cell_type": "code",
   "execution_count": null,
   "id": "c92da964",
   "metadata": {},
   "outputs": [],
   "source": [
    "from pyspark.sql.functions import when"
   ]
  },
  {
   "cell_type": "code",
   "execution_count": 21,
   "id": "a9ffaf27",
   "metadata": {},
   "outputs": [
    {
     "name": "stdout",
     "output_type": "stream",
     "text": [
      "+----------+---------------------------------------------------------+\n",
      "|     trans|CASE WHEN contains(trans, auto) THEN auto ELSE manual END|\n",
      "+----------+---------------------------------------------------------+\n",
      "|  auto(l5)|                                                     auto|\n",
      "|manual(m5)|                                                   manual|\n",
      "|manual(m6)|                                                   manual|\n",
      "|  auto(av)|                                                     auto|\n",
      "|  auto(l5)|                                                     auto|\n",
      "+----------+---------------------------------------------------------+\n",
      "only showing top 5 rows\n",
      "\n"
     ]
    }
   ],
   "source": [
    "mpg.select(mpg.trans, when(mpg.trans.contains('auto'), 'auto').otherwise('manual')).alias('testcol').show(5)\n"
   ]
  },
  {
   "cell_type": "code",
   "execution_count": 22,
   "id": "f0d77059",
   "metadata": {},
   "outputs": [
    {
     "name": "stdout",
     "output_type": "stream",
     "text": [
      "+----------+--------------+--------------+-----------+\n",
      "|     trans|regexp_extract|regexp_replace|when + like|\n",
      "+----------+--------------+--------------+-----------+\n",
      "|  auto(l5)|          auto|          auto|       auto|\n",
      "|manual(m5)|        manual|        manual|     manual|\n",
      "|manual(m6)|        manual|        manual|     manual|\n",
      "|  auto(av)|          auto|          auto|       auto|\n",
      "|  auto(l5)|          auto|          auto|       auto|\n",
      "|manual(m5)|        manual|        manual|     manual|\n",
      "|  auto(av)|          auto|          auto|       auto|\n",
      "|manual(m5)|        manual|        manual|     manual|\n",
      "|  auto(l5)|          auto|          auto|       auto|\n",
      "|manual(m6)|        manual|        manual|     manual|\n",
      "|  auto(s6)|          auto|          auto|       auto|\n",
      "|  auto(l5)|          auto|          auto|       auto|\n",
      "|manual(m5)|        manual|        manual|     manual|\n",
      "|  auto(s6)|          auto|          auto|       auto|\n",
      "|manual(m6)|        manual|        manual|     manual|\n",
      "|  auto(l5)|          auto|          auto|       auto|\n",
      "|  auto(s6)|          auto|          auto|       auto|\n",
      "|  auto(s6)|          auto|          auto|       auto|\n",
      "|  auto(l4)|          auto|          auto|       auto|\n",
      "|  auto(l4)|          auto|          auto|       auto|\n",
      "+----------+--------------+--------------+-----------+\n",
      "only showing top 20 rows\n",
      "\n"
     ]
    }
   ],
   "source": [
    "# other methods from class review \n",
    "# multiple ways to do this, here's 3 of them\n",
    "mpg.select(\n",
    "    'trans',\n",
    "    regexp_extract(\"trans\", r\"^(\\w+)\\(\", 1).alias(\"regexp_extract\"),\n",
    "    regexp_replace(\"trans\", r\"\\(.+$\", \"\").alias(\"regexp_replace\"),\n",
    "    when(\n",
    "        mpg.trans.like(\"auto%\"), \"auto\"\n",
    "    ).otherwise(\"manual\").alias(\"when + like\")\n",
    ").show()"
   ]
  },
  {
   "cell_type": "markdown",
   "id": "0d323b56",
   "metadata": {},
   "source": [
    "# 3\n",
    "\n",
    "Load the tips dataset as a spark dataframe.\n",
    "\n",
    "    What percentage of observations are smokers?\n",
    "    Create a column that contains the tip percentage\n",
    "    Calculate the average tip percentage for each combination of sex and smoker.\n",
    "\n"
   ]
  },
  {
   "cell_type": "code",
   "execution_count": 50,
   "id": "154523ff",
   "metadata": {
    "scrolled": true
   },
   "outputs": [
    {
     "name": "stdout",
     "output_type": "stream",
     "text": [
      "+----------+----+------+------+---+------+----+\n",
      "|total_bill| tip|   sex|smoker|day|  time|size|\n",
      "+----------+----+------+------+---+------+----+\n",
      "|     16.99|1.01|Female|    No|Sun|Dinner|   2|\n",
      "|     10.34|1.66|  Male|    No|Sun|Dinner|   3|\n",
      "|     21.01| 3.5|  Male|    No|Sun|Dinner|   3|\n",
      "|     23.68|3.31|  Male|    No|Sun|Dinner|   2|\n",
      "|     24.59|3.61|Female|    No|Sun|Dinner|   4|\n",
      "+----------+----+------+------+---+------+----+\n",
      "only showing top 5 rows\n",
      "\n"
     ]
    }
   ],
   "source": [
    "tips = spark.createDataFrame(data(\"tips\"))\n",
    "tips.show(5)"
   ]
  },
  {
   "cell_type": "code",
   "execution_count": 24,
   "id": "c38af421",
   "metadata": {},
   "outputs": [
    {
     "data": {
      "text/plain": [
       "<pyspark.sql.group.GroupedData at 0x12745a520>"
      ]
     },
     "execution_count": 24,
     "metadata": {},
     "output_type": "execute_result"
    }
   ],
   "source": [
    "tips.groupBy(tips.smoker)"
   ]
  },
  {
   "cell_type": "code",
   "execution_count": 25,
   "id": "800a0fd3",
   "metadata": {},
   "outputs": [
    {
     "name": "stdout",
     "output_type": "stream",
     "text": [
      "+------+-----+\n",
      "|smoker|count|\n",
      "+------+-----+\n",
      "|    No|  151|\n",
      "|   Yes|   93|\n",
      "+------+-----+\n",
      "\n"
     ]
    },
    {
     "name": "stderr",
     "output_type": "stream",
     "text": [
      "\r",
      "[Stage 14:=====>                                                   (1 + 9) / 10]\r",
      "\r",
      "                                                                                \r"
     ]
    }
   ],
   "source": [
    "tips.groupBy(tips.smoker).count().show()"
   ]
  },
  {
   "cell_type": "code",
   "execution_count": 26,
   "id": "0a500ba8",
   "metadata": {},
   "outputs": [],
   "source": [
    "m = tips.groupBy(tips.smoker).count()"
   ]
  },
  {
   "cell_type": "code",
   "execution_count": 27,
   "id": "d4d70ba2",
   "metadata": {},
   "outputs": [
    {
     "name": "stderr",
     "output_type": "stream",
     "text": [
      "\r",
      "[Stage 17:>                                                       (0 + 10) / 10]\r"
     ]
    },
    {
     "name": "stdout",
     "output_type": "stream",
     "text": [
      "+------+-----+\n",
      "|smoker|count|\n",
      "+------+-----+\n",
      "|    No|  151|\n",
      "|   Yes|   93|\n",
      "+------+-----+\n",
      "\n"
     ]
    },
    {
     "name": "stderr",
     "output_type": "stream",
     "text": [
      "\r",
      "                                                                                \r"
     ]
    }
   ],
   "source": [
    "m.show()"
   ]
  },
  {
   "cell_type": "code",
   "execution_count": 28,
   "id": "254ef55e",
   "metadata": {},
   "outputs": [
    {
     "data": {
      "text/plain": [
       "244"
      ]
     },
     "execution_count": 28,
     "metadata": {},
     "output_type": "execute_result"
    }
   ],
   "source": [
    "tips.count()"
   ]
  },
  {
   "cell_type": "code",
   "execution_count": 29,
   "id": "08c1e711",
   "metadata": {
    "scrolled": true
   },
   "outputs": [
    {
     "name": "stdout",
     "output_type": "stream",
     "text": [
      "+-------------------+\n",
      "|      (count / 244)|\n",
      "+-------------------+\n",
      "| 0.6188524590163934|\n",
      "|0.38114754098360654|\n",
      "+-------------------+\n",
      "\n"
     ]
    }
   ],
   "source": [
    "m.select(m['count']/tips.count()).show()"
   ]
  },
  {
   "cell_type": "code",
   "execution_count": 36,
   "id": "8936cc79",
   "metadata": {},
   "outputs": [
    {
     "name": "stdout",
     "output_type": "stream",
     "text": [
      "+------+-----+-------------------+\n",
      "|smoker|count|            percent|\n",
      "+------+-----+-------------------+\n",
      "|    No|  151| 0.6188524590163934|\n",
      "|   Yes|   93|0.38114754098360654|\n",
      "+------+-----+-------------------+\n",
      "\n"
     ]
    }
   ],
   "source": [
    "# pretty version from review\n",
    "tips.groupby('smoker').count().withColumn('percent', col('count') / tips.count()).show()"
   ]
  },
  {
   "cell_type": "code",
   "execution_count": 30,
   "id": "a98e9398",
   "metadata": {},
   "outputs": [],
   "source": [
    "#tip pecentage\n",
    "col2 = (tips.tip/tips.total_bill).alias('per')"
   ]
  },
  {
   "cell_type": "code",
   "execution_count": 31,
   "id": "961b634c",
   "metadata": {},
   "outputs": [
    {
     "name": "stdout",
     "output_type": "stream",
     "text": [
      "+-------------------+\n",
      "|                per|\n",
      "+-------------------+\n",
      "|0.05944673337257211|\n",
      "|0.16054158607350097|\n",
      "|0.16658733936220846|\n",
      "| 0.1397804054054054|\n",
      "|0.14680764538430255|\n",
      "+-------------------+\n",
      "only showing top 5 rows\n",
      "\n"
     ]
    }
   ],
   "source": [
    "tips.select(col2).show(5)"
   ]
  },
  {
   "cell_type": "markdown",
   "id": "fcdcff35",
   "metadata": {},
   "source": [
    " Calculate the average tip percentage for each combination of sex and smoker."
   ]
  },
  {
   "cell_type": "code",
   "execution_count": 32,
   "id": "3d16d8ef",
   "metadata": {},
   "outputs": [
    {
     "name": "stdout",
     "output_type": "stream",
     "text": [
      "+----------+----+------+------+---+------+----+\n",
      "|total_bill| tip|   sex|smoker|day|  time|size|\n",
      "+----------+----+------+------+---+------+----+\n",
      "|     16.99|1.01|Female|    No|Sun|Dinner|   2|\n",
      "|     10.34|1.66|  Male|    No|Sun|Dinner|   3|\n",
      "|     21.01| 3.5|  Male|    No|Sun|Dinner|   3|\n",
      "|     23.68|3.31|  Male|    No|Sun|Dinner|   2|\n",
      "|     24.59|3.61|Female|    No|Sun|Dinner|   4|\n",
      "+----------+----+------+------+---+------+----+\n",
      "only showing top 5 rows\n",
      "\n"
     ]
    }
   ],
   "source": [
    "tips.show(5)"
   ]
  },
  {
   "cell_type": "code",
   "execution_count": 33,
   "id": "cf03001c",
   "metadata": {},
   "outputs": [],
   "source": [
    "from pyspark.sql.functions import col, expr, avg"
   ]
  },
  {
   "cell_type": "code",
   "execution_count": null,
   "id": "947f4cc3",
   "metadata": {},
   "outputs": [],
   "source": [
    "#verify groupby works"
   ]
  },
  {
   "cell_type": "code",
   "execution_count": 51,
   "id": "410467d1",
   "metadata": {
    "scrolled": true
   },
   "outputs": [
    {
     "name": "stdout",
     "output_type": "stream",
     "text": [
      "+------+------+------------------+\n",
      "|   sex|smoker|round(avg(tip), 3)|\n",
      "+------+------+------------------+\n",
      "|  Male|    No|             3.113|\n",
      "|Female|    No|             2.774|\n",
      "|  Male|   Yes|             3.051|\n",
      "|Female|   Yes|             2.932|\n",
      "+------+------+------------------+\n",
      "\n"
     ]
    }
   ],
   "source": [
    "tips.groupBy('sex', 'smoker').agg(round(avg(tips.tip), 3)).show(5)"
   ]
  },
  {
   "cell_type": "code",
   "execution_count": 52,
   "id": "33e00547",
   "metadata": {
    "scrolled": false
   },
   "outputs": [
    {
     "name": "stdout",
     "output_type": "stream",
     "text": [
      "+----------+----+------+------+---+------+----+-------------------+\n",
      "|total_bill| tip|   sex|smoker|day|  time|size|                per|\n",
      "+----------+----+------+------+---+------+----+-------------------+\n",
      "|     16.99|1.01|Female|    No|Sun|Dinner|   2|0.05944673337257211|\n",
      "|     10.34|1.66|  Male|    No|Sun|Dinner|   3|0.16054158607350097|\n",
      "|     21.01| 3.5|  Male|    No|Sun|Dinner|   3|0.16658733936220846|\n",
      "|     23.68|3.31|  Male|    No|Sun|Dinner|   2| 0.1397804054054054|\n",
      "|     24.59|3.61|Female|    No|Sun|Dinner|   4|0.14680764538430255|\n",
      "+----------+----+------+------+---+------+----+-------------------+\n",
      "only showing top 5 rows\n",
      "\n"
     ]
    }
   ],
   "source": [
    "tips.withColumn('per', tips.tip/tips.total_bill).show(5) #check it worked"
   ]
  },
  {
   "cell_type": "code",
   "execution_count": 55,
   "id": "824bdca6",
   "metadata": {},
   "outputs": [],
   "source": [
    "tips = tips.withColumn('per', tips.tip/tips.total_bill) #dont show 5 or itll only equal the first five rows duh"
   ]
  },
  {
   "cell_type": "code",
   "execution_count": 57,
   "id": "4bc7a002",
   "metadata": {},
   "outputs": [
    {
     "name": "stdout",
     "output_type": "stream",
     "text": [
      "+----------+----+------+------+---+------+----+-------------------+\n",
      "|total_bill| tip|   sex|smoker|day|  time|size|                per|\n",
      "+----------+----+------+------+---+------+----+-------------------+\n",
      "|     16.99|1.01|Female|    No|Sun|Dinner|   2|0.05944673337257211|\n",
      "|     10.34|1.66|  Male|    No|Sun|Dinner|   3|0.16054158607350097|\n",
      "|     21.01| 3.5|  Male|    No|Sun|Dinner|   3|0.16658733936220846|\n",
      "|     23.68|3.31|  Male|    No|Sun|Dinner|   2| 0.1397804054054054|\n",
      "|     24.59|3.61|Female|    No|Sun|Dinner|   4|0.14680764538430255|\n",
      "+----------+----+------+------+---+------+----+-------------------+\n",
      "only showing top 5 rows\n",
      "\n"
     ]
    }
   ],
   "source": [
    "tips.show(5)"
   ]
  },
  {
   "cell_type": "code",
   "execution_count": 58,
   "id": "f2eeb4f9",
   "metadata": {
    "scrolled": false
   },
   "outputs": [
    {
     "name": "stdout",
     "output_type": "stream",
     "text": [
      "+------+------+------------------+\n",
      "|   sex|smoker|round(avg(per), 3)|\n",
      "+------+------+------------------+\n",
      "|  Male|    No|             0.161|\n",
      "|Female|    No|             0.157|\n",
      "|  Male|   Yes|             0.153|\n",
      "|Female|   Yes|             0.182|\n",
      "+------+------+------------------+\n",
      "\n"
     ]
    }
   ],
   "source": [
    "tips.groupBy('sex', 'smoker').agg(round(avg(tips.per), 3)).show(5)"
   ]
  },
  {
   "cell_type": "code",
   "execution_count": 37,
   "id": "c3644f4f",
   "metadata": {},
   "outputs": [
    {
     "name": "stderr",
     "output_type": "stream",
     "text": [
      "\r",
      "[Stage 51:>                                                       (0 + 10) / 10]\r"
     ]
    },
    {
     "name": "stdout",
     "output_type": "stream",
     "text": [
      "+------+------+------+\n",
      "|   sex|    No|   Yes|\n",
      "+------+------+------+\n",
      "|Female|0.1569|0.1822|\n",
      "|  Male|0.1607|0.1528|\n",
      "+------+------+------+\n",
      "\n"
     ]
    },
    {
     "name": "stderr",
     "output_type": "stream",
     "text": [
      "\r",
      "                                                                                \r"
     ]
    }
   ],
   "source": [
    "# from review\n",
    "tips.withColumn(\"tip_percentage\", col('tip') / col('total_bill'))\\\n",
    "    .groupby(\"sex\")\\\n",
    "    .pivot(\"smoker\")\\\n",
    "    .agg(round(mean(\"tip_percentage\"), 4))\\\n",
    "    .show()"
   ]
  },
  {
   "cell_type": "code",
   "execution_count": null,
   "id": "4bf639bf",
   "metadata": {},
   "outputs": [],
   "source": []
  },
  {
   "cell_type": "markdown",
   "id": "fd90169d",
   "metadata": {},
   "source": [
    "# 4\n",
    "\n",
    "Use the seattle weather dataset referenced in the lesson to answer the questions below.\n",
    "\n",
    "    Convert the temperatures to fahrenheit.\n",
    "    Which month has the most rain, on average?\n",
    "    Which year was the windiest?\n",
    "    What is the most frequent type of weather in January?\n",
    "    What is the average high and low temperature on sunny days in July in 2013 and 2014?\n",
    "    What percentage of days were rainy in q3 of 2015?\n",
    "    For each year, find what percentage of days it rained (had non-zero precipitation).\n",
    "\n"
   ]
  },
  {
   "cell_type": "code",
   "execution_count": 63,
   "id": "9b122aa8",
   "metadata": {
    "scrolled": true
   },
   "outputs": [
    {
     "name": "stdout",
     "output_type": "stream",
     "text": [
      "+-------------------+-------------+--------+--------+----+-------+\n",
      "|               date|precipitation|temp_max|temp_min|wind|weather|\n",
      "+-------------------+-------------+--------+--------+----+-------+\n",
      "|2012-01-01 00:00:00|          0.0|    12.8|     5.0| 4.7|drizzle|\n",
      "|2012-01-02 00:00:00|         10.9|    10.6|     2.8| 4.5|   rain|\n",
      "|2012-01-03 00:00:00|          0.8|    11.7|     7.2| 2.3|   rain|\n",
      "|2012-01-04 00:00:00|         20.3|    12.2|     5.6| 4.7|   rain|\n",
      "+-------------------+-------------+--------+--------+----+-------+\n",
      "only showing top 4 rows\n",
      "\n"
     ]
    }
   ],
   "source": [
    "from vega_datasets import data\n",
    "\n",
    "weather = data.seattle_weather()\n",
    "weather = spark.createDataFrame(weather)\n",
    "weather.show(4)"
   ]
  },
  {
   "cell_type": "code",
   "execution_count": 64,
   "id": "eaf13e48",
   "metadata": {},
   "outputs": [
    {
     "data": {
      "text/plain": [
       "DataFrame[date: timestamp, precipitation: double, temp_max: double, temp_min: double, wind: double, weather: string, max_F: double, moin_F: double]"
      ]
     },
     "execution_count": 64,
     "metadata": {},
     "output_type": "execute_result"
    }
   ],
   "source": [
    "weather = weather.withColumn(\n",
    "    'max_F', (weather.temp_max * 9 / 5 + 32)\n",
    ").withColumn('min_F', (weather.temp_min * 9 / 5 + 32))\n",
    "weather"
   ]
  },
  {
   "cell_type": "code",
   "execution_count": 65,
   "id": "870d33b7",
   "metadata": {},
   "outputs": [
    {
     "name": "stdout",
     "output_type": "stream",
     "text": [
      "+-------------------+-------------+--------+--------+----+-------+-----+------+\n",
      "|               date|precipitation|temp_max|temp_min|wind|weather|max_F|moin_F|\n",
      "+-------------------+-------------+--------+--------+----+-------+-----+------+\n",
      "|2012-01-01 00:00:00|          0.0|    12.8|     5.0| 4.7|drizzle|55.04|  41.0|\n",
      "|2012-01-02 00:00:00|         10.9|    10.6|     2.8| 4.5|   rain|51.08| 37.04|\n",
      "|2012-01-03 00:00:00|          0.8|    11.7|     7.2| 2.3|   rain|53.06| 44.96|\n",
      "|2012-01-04 00:00:00|         20.3|    12.2|     5.6| 4.7|   rain|53.96| 42.08|\n",
      "|2012-01-05 00:00:00|          1.3|     8.9|     2.8| 6.1|   rain|48.02| 37.04|\n",
      "+-------------------+-------------+--------+--------+----+-------+-----+------+\n",
      "only showing top 5 rows\n",
      "\n"
     ]
    }
   ],
   "source": [
    "weather.show(5)"
   ]
  },
  {
   "cell_type": "code",
   "execution_count": 66,
   "id": "bfe6d801",
   "metadata": {
    "scrolled": true
   },
   "outputs": [
    {
     "data": {
      "text/plain": [
       "DataFrame[date: timestamp, precipitation: double, temp_max: double, temp_min: double, wind: double, weather: string, max_F: double, moin_F: double]"
      ]
     },
     "execution_count": 66,
     "metadata": {},
     "output_type": "execute_result"
    }
   ],
   "source": [
    "# class review\n",
    "weather_review = weather.withColumn(\n",
    "    \"temp_max\", (col(\"temp_max\") * 9 / 5 + 32)\n",
    ").withColumn(\"temp_min\", (col(\"temp_min\") * 9 / 5 + 32))\n",
    "weather"
   ]
  },
  {
   "cell_type": "code",
   "execution_count": 67,
   "id": "18c8b8cf",
   "metadata": {},
   "outputs": [
    {
     "name": "stdout",
     "output_type": "stream",
     "text": [
      "+-------------------+-------------+--------+--------+----+-------+-----+------+\n",
      "|               date|precipitation|temp_max|temp_min|wind|weather|max_F|moin_F|\n",
      "+-------------------+-------------+--------+--------+----+-------+-----+------+\n",
      "|2012-01-01 00:00:00|          0.0|   55.04|    41.0| 4.7|drizzle|55.04|  41.0|\n",
      "|2012-01-02 00:00:00|         10.9|   51.08|   37.04| 4.5|   rain|51.08| 37.04|\n",
      "|2012-01-03 00:00:00|          0.8|   53.06|   44.96| 2.3|   rain|53.06| 44.96|\n",
      "|2012-01-04 00:00:00|         20.3|   53.96|   42.08| 4.7|   rain|53.96| 42.08|\n",
      "|2012-01-05 00:00:00|          1.3|   48.02|   37.04| 6.1|   rain|48.02| 37.04|\n",
      "+-------------------+-------------+--------+--------+----+-------+-----+------+\n",
      "only showing top 5 rows\n",
      "\n"
     ]
    }
   ],
   "source": [
    "weather_review.show(5)"
   ]
  },
  {
   "cell_type": "markdown",
   "id": "1051c494",
   "metadata": {},
   "source": [
    "Which month has the most rain, on average? "
   ]
  },
  {
   "cell_type": "code",
   "execution_count": 72,
   "id": "818e337b",
   "metadata": {},
   "outputs": [],
   "source": [
    "rainy = (\n",
    "    weather.withColumn('month', month('date'))\n",
    "    .withColumn('year', year('date'))\n",
    "    .groupBy('month', 'year')\n",
    "    .agg(sum('precipitation').alias('avg_mon')))"
   ]
  },
  {
   "cell_type": "code",
   "execution_count": 73,
   "id": "55e8e486",
   "metadata": {
    "scrolled": true
   },
   "outputs": [
    {
     "name": "stderr",
     "output_type": "stream",
     "text": [
      "\r",
      "[Stage 88:>                                                       (0 + 10) / 10]\r"
     ]
    },
    {
     "name": "stdout",
     "output_type": "stream",
     "text": [
      "+-----+----+------------------+\n",
      "|month|year|           avg_mon|\n",
      "+-----+----+------------------+\n",
      "|    2|2012|              92.3|\n",
      "|    5|2012|              52.2|\n",
      "|    1|2012|173.29999999999998|\n",
      "|    3|2012|             183.0|\n",
      "|    4|2012| 68.09999999999998|\n",
      "+-----+----+------------------+\n",
      "only showing top 5 rows\n",
      "\n"
     ]
    },
    {
     "name": "stderr",
     "output_type": "stream",
     "text": [
      "\r",
      "                                                                                \r"
     ]
    }
   ],
   "source": [
    "rainy.show(5)"
   ]
  },
  {
   "cell_type": "code",
   "execution_count": 76,
   "id": "cc1548de",
   "metadata": {
    "scrolled": false
   },
   "outputs": [
    {
     "name": "stdout",
     "output_type": "stream",
     "text": [
      "+-----+------------------+\n",
      "|month|   tot_monthly_avg|\n",
      "+-----+------------------+\n",
      "|   12|           155.675|\n",
      "|    1|116.49999999999999|\n",
      "|    6|            33.225|\n",
      "|    3|            151.55|\n",
      "|    5|            51.875|\n",
      "+-----+------------------+\n",
      "only showing top 5 rows\n",
      "\n"
     ]
    }
   ],
   "source": [
    "rainy.groupBy('month').agg(avg('avg_mon').alias('tot_monthly_avg')).show(5)"
   ]
  },
  {
   "cell_type": "code",
   "execution_count": 78,
   "id": "d57cdbef",
   "metadata": {},
   "outputs": [],
   "source": [
    "monthly_rain = rainy.groupBy('month').agg(avg('avg_mon').alias('tot_monthly_avg'))"
   ]
  },
  {
   "cell_type": "code",
   "execution_count": 86,
   "id": "57bfcb25",
   "metadata": {},
   "outputs": [
    {
     "name": "stderr",
     "output_type": "stream",
     "text": [
      "\r",
      "[Stage 130:>                                                      (0 + 10) / 10]\r"
     ]
    },
    {
     "name": "stdout",
     "output_type": "stream",
     "text": [
      "+-----+---------------+\n",
      "|month|tot_monthly_avg|\n",
      "+-----+---------------+\n",
      "|   11|        160.625|\n",
      "+-----+---------------+\n",
      "only showing top 1 row\n",
      "\n"
     ]
    },
    {
     "name": "stderr",
     "output_type": "stream",
     "text": [
      "\r",
      "                                                                                \r"
     ]
    }
   ],
   "source": [
    "monthly_rain.sort(col('tot_monthly_avg').desc()).show(1)"
   ]
  },
  {
   "cell_type": "code",
   "execution_count": 68,
   "id": "2ba7d802",
   "metadata": {},
   "outputs": [
    {
     "name": "stderr",
     "output_type": "stream",
     "text": [
      "                                                                                \r"
     ]
    },
    {
     "data": {
      "text/plain": [
       "Row(month=11, avg_monthly_rain=160.625)"
      ]
     },
     "execution_count": 68,
     "metadata": {},
     "output_type": "execute_result"
    }
   ],
   "source": [
    "# From Review\n",
    "row = (\n",
    "    weather.withColumn(\"month\", month(\"date\"))\n",
    "    .withColumn(\"year\", year(\"date\"))\n",
    "    .groupBy(\"month\", \"year\")\n",
    "    .agg(sum(\"precipitation\").alias(\"total_monthly_precipitation\"))\n",
    "    .groupBy(\"month\")\n",
    "    .agg(mean(\"total_monthly_precipitation\").alias(\"avg_monthly_rain\"))\n",
    "    .sort(col(\"avg_monthly_rain\").desc())\n",
    "    .first()\n",
    ")\n",
    "row"
   ]
  },
  {
   "cell_type": "code",
   "execution_count": null,
   "id": "b9fffef6",
   "metadata": {},
   "outputs": [],
   "source": [
    "# windiest year"
   ]
  },
  {
   "cell_type": "code",
   "execution_count": 88,
   "id": "55ab690f",
   "metadata": {},
   "outputs": [
    {
     "data": {
      "text/plain": [
       "[Row(year=2012, yrly_wind=1244.7),\n",
       " Row(year=2014, yrly_wind=1236.5),\n",
       " Row(year=2015, yrly_wind=1153.2999999999997)]"
      ]
     },
     "execution_count": 88,
     "metadata": {},
     "output_type": "execute_result"
    }
   ],
   "source": [
    "(\n",
    "    weather.withColumn('year', year('date'))\n",
    "    .groupBy('year')\n",
    "    .agg(sum('wind').alias('yrly_wind'))\n",
    "    .sort(col('yrly_wind').desc())\n",
    "    .head(3)\n",
    ")"
   ]
  },
  {
   "cell_type": "code",
   "execution_count": null,
   "id": "453e44d8",
   "metadata": {},
   "outputs": [],
   "source": [
    "# rest is from review"
   ]
  },
  {
   "cell_type": "code",
   "execution_count": null,
   "id": "31f1f262",
   "metadata": {},
   "outputs": [],
   "source": [
    "# whats Jan like"
   ]
  },
  {
   "cell_type": "code",
   "execution_count": 89,
   "id": "10a473f2",
   "metadata": {},
   "outputs": [
    {
     "name": "stdout",
     "output_type": "stream",
     "text": [
      "+-------+-----+\n",
      "|weather|count|\n",
      "+-------+-----+\n",
      "|    fog|   38|\n",
      "|   rain|   35|\n",
      "|    sun|   33|\n",
      "|drizzle|   10|\n",
      "|   snow|    8|\n",
      "+-------+-----+\n",
      "\n"
     ]
    }
   ],
   "source": [
    "(\n",
    "    weather.withColumn(\"month\", month(\"date\"))\n",
    "    .filter(col(\"month\") == 1)\n",
    "    .groupBy(\"weather\")\n",
    "    .count()\n",
    "    .sort(col(\"count\").desc())\n",
    "    .show()\n",
    ")"
   ]
  },
  {
   "cell_type": "code",
   "execution_count": 90,
   "id": "faf9d6ce",
   "metadata": {},
   "outputs": [
    {
     "name": "stdout",
     "output_type": "stream",
     "text": [
      "+-------+-----+\n",
      "|weather|count|\n",
      "+-------+-----+\n",
      "|drizzle|   54|\n",
      "|   rain|  259|\n",
      "|    sun|  714|\n",
      "|   snow|   23|\n",
      "|    fog|  411|\n",
      "+-------+-----+\n",
      "\n"
     ]
    }
   ],
   "source": [
    "# .value_counts for spark\n",
    "weather.groupBy('weather').count().show()"
   ]
  },
  {
   "cell_type": "code",
   "execution_count": null,
   "id": "bd44441a",
   "metadata": {},
   "outputs": [],
   "source": [
    "# avg high low"
   ]
  },
  {
   "cell_type": "code",
   "execution_count": 91,
   "id": "4e4b134d",
   "metadata": {},
   "outputs": [
    {
     "name": "stdout",
     "output_type": "stream",
     "text": [
      "+------------------+-----------------+\n",
      "| average_high_temp| average_low_temp|\n",
      "+------------------+-----------------+\n",
      "|26.828846153846158|14.18269230769231|\n",
      "+------------------+-----------------+\n",
      "\n"
     ]
    }
   ],
   "source": [
    "(\n",
    "    weather.filter(month(\"date\") == 7)\n",
    "    .filter(year(\"date\") > 2012)\n",
    "    .filter(year(\"date\") < 2015)\n",
    "    .filter(col(\"weather\") == lit(\"sun\"))\n",
    "    .agg(\n",
    "        avg(\"temp_max\").alias(\"average_high_temp\"),\n",
    "        avg(\"temp_min\").alias(\"average_low_temp\"),\n",
    "    )\n",
    "    .show()\n",
    ")"
   ]
  },
  {
   "cell_type": "code",
   "execution_count": null,
   "id": "a6db143c",
   "metadata": {},
   "outputs": [],
   "source": [
    "# What percentage of days were rainy in q3 of 2015?"
   ]
  },
  {
   "cell_type": "code",
   "execution_count": null,
   "id": "32073ce2",
   "metadata": {},
   "outputs": [],
   "source": [
    "# in pandas -- (df.weather == \"rain\").mean()\n",
    "# measure a rainy day by weather == rain\n",
    "(\n",
    "    weather.filter(year(\"date\") == 2015)\n",
    "    .filter(quarter(\"date\") == 3)\n",
    "    .select(when(col(\"weather\") == \"rain\", 1).otherwise(0).alias(\"rain\"))\n",
    "    .agg(mean(\"rain\"))\n",
    "    .show()\n",
    ")"
   ]
  },
  {
   "cell_type": "code",
   "execution_count": null,
   "id": "cbbdd52d",
   "metadata": {},
   "outputs": [],
   "source": [
    "#  For each year, find what percentage of days it rained (had non-zero precipitation)."
   ]
  },
  {
   "cell_type": "code",
   "execution_count": null,
   "id": "8c67a27b",
   "metadata": {},
   "outputs": [],
   "source": [
    "# measure a rainy day by precipitation > 0\n",
    "(\n",
    "    weather.withColumn(\"year\", year(\"date\"))\n",
    "    .select(when(col(\"precipitation\") > 0, 1).otherwise(0).alias(\"did_rain\"), \"year\")\n",
    "    .groupby(\"year\")\n",
    "    .agg(mean(\"did_rain\"))\n",
    "    .show()\n",
    ")"
   ]
  }
 ],
 "metadata": {
  "kernelspec": {
   "display_name": "Python 3 (ipykernel)",
   "language": "python",
   "name": "python3"
  },
  "language_info": {
   "codemirror_mode": {
    "name": "ipython",
    "version": 3
   },
   "file_extension": ".py",
   "mimetype": "text/x-python",
   "name": "python",
   "nbconvert_exporter": "python",
   "pygments_lexer": "ipython3",
   "version": "3.9.12"
  }
 },
 "nbformat": 4,
 "nbformat_minor": 5
}
